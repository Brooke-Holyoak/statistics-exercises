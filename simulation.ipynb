{
 "cells": [
  {
   "cell_type": "code",
   "execution_count": 1,
   "id": "aa28364e",
   "metadata": {},
   "outputs": [],
   "source": [
    "import numpy as np\n",
    "import pandas as pd"
   ]
  },
  {
   "cell_type": "code",
   "execution_count": null,
   "id": "fdbab3b9",
   "metadata": {},
   "outputs": [],
   "source": []
  },
  {
   "cell_type": "markdown",
   "id": "3fdc7703",
   "metadata": {},
   "source": [
    "#### 1. How likely is it that you roll doubles when rolling two dice?"
   ]
  },
  {
   "cell_type": "code",
   "execution_count": null,
   "id": "7ec22ed8",
   "metadata": {},
   "outputs": [],
   "source": [
    "## outcome possibilities: 1,1; 2,2; 3,3; 4,4; 5,5; 6,6 and there are two trials.  \n",
    "## Think: the first die is going to be equal to the second die"
   ]
  },
  {
   "cell_type": "code",
   "execution_count": 3,
   "id": "3f85bbb1",
   "metadata": {},
   "outputs": [],
   "source": [
    "outcomes = [1, 2, 3, 4, 5, 6]\n",
    "n_simulations = 10_000\n",
    "\n",
    "die1 = np.random.choice(outcomes, size=n_simulations)\n",
    "die2 = np.random.choice(outcomes, size=n_simulations)"
   ]
  },
  {
   "cell_type": "code",
   "execution_count": 5,
   "id": "92ea45fe",
   "metadata": {},
   "outputs": [
    {
     "data": {
      "text/plain": [
       "0.1735"
      ]
     },
     "execution_count": 5,
     "metadata": {},
     "output_type": "execute_result"
    }
   ],
   "source": [
    "rolled_doubles = die1 == die2\n",
    "rolled_doubles.mean()"
   ]
  },
  {
   "cell_type": "code",
   "execution_count": 64,
   "id": "4c8ae2d0",
   "metadata": {},
   "outputs": [
    {
     "data": {
      "text/plain": [
       "(array([4, 2, 3, 1, 2]), array([6, 5, 3, 5, 5]))"
      ]
     },
     "execution_count": 64,
     "metadata": {},
     "output_type": "execute_result"
    }
   ],
   "source": [
    "die1[0:5], die2[0:5]"
   ]
  },
  {
   "cell_type": "markdown",
   "id": "1627f8bb",
   "metadata": {},
   "source": [
    "#### 2. If you flip 8 coins, what is the probability of getting exactly 3 heads? What is the probability of getting more than 3 heads?"
   ]
  },
  {
   "cell_type": "code",
   "execution_count": null,
   "id": "eeaa87d8",
   "metadata": {},
   "outputs": [],
   "source": [
    "#8 coins so 8 trials?  and the outcome possibility is heads or tails.  \n",
    "#i want to know how many times heads > 3"
   ]
  },
  {
   "cell_type": "code",
   "execution_count": 8,
   "id": "9d87c392",
   "metadata": {},
   "outputs": [
    {
     "data": {
      "text/plain": [
       "array([[0, 0, 0, 0, 1, 1, 1, 0],\n",
       "       [1, 0, 1, 1, 1, 0, 0, 1],\n",
       "       [0, 1, 1, 0, 0, 0, 1, 0],\n",
       "       [0, 0, 0, 0, 0, 0, 0, 1],\n",
       "       [0, 1, 0, 0, 0, 1, 1, 0]])"
      ]
     },
     "execution_count": 8,
     "metadata": {},
     "output_type": "execute_result"
    }
   ],
   "source": [
    "outcomes = [1, 0]  #heads is 1, tails is 0\n",
    "n_simulations = 10_000\n",
    "n_trials = 8\n",
    "flips = np.random.choice(outcomes, size=(n_simulations, n_trials))\n",
    "flips[0:5]"
   ]
  },
  {
   "cell_type": "code",
   "execution_count": 9,
   "id": "0c17986f",
   "metadata": {},
   "outputs": [
    {
     "data": {
      "text/plain": [
       "array([3, 5, 3, 1, 3])"
      ]
     },
     "execution_count": 9,
     "metadata": {},
     "output_type": "execute_result"
    }
   ],
   "source": [
    "sum_of_flips = flips.sum(axis=1)\n",
    "sum_of_flips[0:5]"
   ]
  },
  {
   "cell_type": "code",
   "execution_count": 10,
   "id": "00897744",
   "metadata": {},
   "outputs": [
    {
     "data": {
      "text/plain": [
       "0.2171"
      ]
     },
     "execution_count": 10,
     "metadata": {},
     "output_type": "execute_result"
    }
   ],
   "source": [
    "(sum_of_flips == 3).mean()"
   ]
  },
  {
   "cell_type": "code",
   "execution_count": 66,
   "id": "164d90f7",
   "metadata": {},
   "outputs": [
    {
     "data": {
      "text/plain": [
       "0.632"
      ]
     },
     "execution_count": 66,
     "metadata": {},
     "output_type": "execute_result"
    }
   ],
   "source": [
    "(sum_of_flips > 3).mean()"
   ]
  },
  {
   "cell_type": "markdown",
   "id": "1df51f5b",
   "metadata": {},
   "source": [
    "#### 3. There are approximitely 3 web development cohorts for every 1 data science cohort at Codeup. Assuming that Codeup randomly selects an alumni to put on a billboard, what are the odds that the two billboards I drive past both have data science students on them?"
   ]
  },
  {
   "cell_type": "code",
   "execution_count": 15,
   "id": "804b51b3",
   "metadata": {},
   "outputs": [
    {
     "data": {
      "text/plain": [
       "0.0663"
      ]
     },
     "execution_count": 15,
     "metadata": {},
     "output_type": "execute_result"
    }
   ],
   "source": [
    "#3:1 or w,w,w,d\n",
    "\n",
    "#outcomes = [\"WebDev\", \"Data\"]\n",
    "outcomes = [0, 1]\n",
    "\n",
    "billboard_select = np.random.choice(outcomes, size=(10_000, 2), p=[0.75, 0.25])\n",
    "\n",
    "num_of_select = billboard_select.sum(axis=1)\n",
    "(num_of_select == 2).mean()\n"
   ]
  },
  {
   "cell_type": "markdown",
   "id": "b8d203e8",
   "metadata": {},
   "source": [
    "#### 4. Codeup students buy, on average, 3 poptart packages (+- 1.5) a day from the snack vending machine. If on monday the machine is restocked with 17 poptart packages, how likely is it that I will be able to buy some poptarts on Friday afternoon?"
   ]
  },
  {
   "cell_type": "code",
   "execution_count": null,
   "id": "4709a0d6",
   "metadata": {},
   "outputs": [],
   "source": [
    "#1.5 up to 4.5 poptarts per day, avg of 3. \n",
    "#after 5 days, how likely is it that the sum of poptarts is > 1?"
   ]
  },
  {
   "cell_type": "code",
   "execution_count": 67,
   "id": "64790ec9",
   "metadata": {},
   "outputs": [
    {
     "data": {
      "text/plain": [
       "0.7278"
      ]
     },
     "execution_count": 67,
     "metadata": {},
     "output_type": "execute_result"
    }
   ],
   "source": [
    "\n",
    "poptart = np.random.normal(loc = 3, scale = 1.5, size = (10_000, 5))\n",
    "\n",
    "number_of_poptarts = poptart.sum(axis=1)\n",
    "(number_of_poptarts < 17).mean()"
   ]
  },
  {
   "cell_type": "code",
   "execution_count": 68,
   "id": "1c8433ab",
   "metadata": {},
   "outputs": [
    {
     "data": {
      "text/plain": [
       "0.848"
      ]
     },
     "execution_count": 68,
     "metadata": {},
     "output_type": "execute_result"
    }
   ],
   "source": [
    "poptart = np.random.uniform(low = 1.5, high = 4.5, size = (10_000, 5))\n",
    "\n",
    "number_of_poptarts = poptart.sum(axis=1)\n",
    "(number_of_poptarts < 17).mean()"
   ]
  },
  {
   "cell_type": "markdown",
   "id": "79f0c2dc",
   "metadata": {},
   "source": [
    "#### 5. Compare Heights\n",
    "\n",
    "    Men have an average height of 178 cm and standard deviation of 8cm.\n",
    "    Women have a mean of 170, sd = 6cm.\n",
    "    Since you have means and standard deviations, you can use np.random.normal to generate observations.\n",
    "    If a man and woman are chosen at random, P(woman taller than man)?"
   ]
  },
  {
   "cell_type": "code",
   "execution_count": 21,
   "id": "6da9e200",
   "metadata": {},
   "outputs": [
    {
     "data": {
      "text/plain": [
       "0.2162"
      ]
     },
     "execution_count": 21,
     "metadata": {},
     "output_type": "execute_result"
    }
   ],
   "source": [
    "m_height = np.random.normal(loc = 178, scale = 8, size = (10_000, 1))\n",
    "w_height = np.random.normal(loc = 170, scale = 6, size = (10_000, 1))\n",
    "\n",
    "(m_height < w_height).mean()"
   ]
  },
  {
   "cell_type": "code",
   "execution_count": 24,
   "id": "d984a89d",
   "metadata": {},
   "outputs": [
    {
     "data": {
      "text/plain": [
       "(array([[177.76659709],\n",
       "        [168.79765477],\n",
       "        [173.79756541],\n",
       "        [168.15663188],\n",
       "        [187.96529034]]),\n",
       " array([[157.53911845],\n",
       "        [179.67961223],\n",
       "        [170.14776935],\n",
       "        [164.29887447],\n",
       "        [171.54170309]]))"
      ]
     },
     "execution_count": 24,
     "metadata": {},
     "output_type": "execute_result"
    }
   ],
   "source": [
    "m_height[0:5] , w_height[0:5]"
   ]
  },
  {
   "cell_type": "markdown",
   "id": "6359bff3",
   "metadata": {},
   "source": [
    "#### 6. When installing anaconda on a student's computer, there's a 1 in 250 chance that the download is corrupted and the installation fails. What are the odds that after having 50 students download anaconda, no one has an installation issue? 100 students?\n",
    "\n",
    "     What is the probability that we observe an installation issue within the first 150 students that download anaconda?\n",
    "\n",
    "    How likely is it that 450 students all download anaconda without an issue?"
   ]
  },
  {
   "cell_type": "code",
   "execution_count": 69,
   "id": "b1340f16",
   "metadata": {},
   "outputs": [
    {
     "data": {
      "text/plain": [
       "0.8169"
      ]
     },
     "execution_count": 69,
     "metadata": {},
     "output_type": "execute_result"
    }
   ],
   "source": [
    "outcomes = [0, 1]\n",
    "n_downloads = 50\n",
    "#0 is pass, and 1 is fail\n",
    "download = np.random.choice(outcomes, size = (10_000 , n_downloads), p = (.996, .004))\n",
    "\n",
    "df = pd.DataFrame(download)\n",
    "\n",
    "df[\"c_downloads\"] = df.sum(axis=1)\n",
    "(df.c_downloads == 0).mean()"
   ]
  },
  {
   "cell_type": "code",
   "execution_count": 71,
   "id": "0506b20e",
   "metadata": {},
   "outputs": [
    {
     "data": {
      "text/plain": [
       "0    8169\n",
       "1    1661\n",
       "2     160\n",
       "3       9\n",
       "4       1\n",
       "Name: c_downloads, dtype: int64"
      ]
     },
     "execution_count": 71,
     "metadata": {},
     "output_type": "execute_result"
    }
   ],
   "source": [
    "df.c_downloads.value_counts()"
   ]
  },
  {
   "cell_type": "code",
   "execution_count": 32,
   "id": "4f76c6fc",
   "metadata": {},
   "outputs": [
    {
     "data": {
      "text/plain": [
       "0.6615"
      ]
     },
     "execution_count": 32,
     "metadata": {},
     "output_type": "execute_result"
    }
   ],
   "source": [
    "outcomes = [0, 1]\n",
    "n_downloads = 100\n",
    "#0 is pass, and 1 is fail\n",
    "download = np.random.choice(outcomes, size = (10_000 , n_downloads), p = (.996, .004))\n",
    "\n",
    "c_downloads = download.sum(axis=1)\n",
    "(c_downloads == 0).mean()"
   ]
  },
  {
   "cell_type": "code",
   "execution_count": 33,
   "id": "4015ca3e",
   "metadata": {},
   "outputs": [
    {
     "data": {
      "text/plain": [
       "0.5427"
      ]
     },
     "execution_count": 33,
     "metadata": {},
     "output_type": "execute_result"
    }
   ],
   "source": [
    "outcomes = [0, 1]\n",
    "n_downloads = 150\n",
    "#0 is pass, and 1 is fail\n",
    "download = np.random.choice(outcomes, size = (10_000 , n_downloads), p = (.996, .004))\n",
    "\n",
    "c_downloads = download.sum(axis=1)\n",
    "(c_downloads == 0).mean()"
   ]
  },
  {
   "cell_type": "code",
   "execution_count": 34,
   "id": "9d8961b2",
   "metadata": {},
   "outputs": [
    {
     "data": {
      "text/plain": [
       "0.1667"
      ]
     },
     "execution_count": 34,
     "metadata": {},
     "output_type": "execute_result"
    }
   ],
   "source": [
    "outcomes = [0, 1]\n",
    "n_downloads = 450\n",
    "#0 is pass, and 1 is fail\n",
    "download = np.random.choice(outcomes, size = (10_000 , n_downloads), p = (.996, .004))\n",
    "\n",
    "c_downloads = download.sum(axis=1)\n",
    "(c_downloads == 0).mean()"
   ]
  },
  {
   "cell_type": "markdown",
   "id": "85d8c7ab",
   "metadata": {},
   "source": [
    "#### 7. There's a 70% chance on any given day that there will be at least one food truck at Travis Park. However, you haven't seen a food truck there in 3 days. How unlikely is this?\n",
    "\n",
    "    How likely is it that a food truck will show up sometime this week?"
   ]
  },
  {
   "cell_type": "code",
   "execution_count": 36,
   "id": "2cb34896",
   "metadata": {},
   "outputs": [
    {
     "data": {
      "text/plain": [
       "0.0301"
      ]
     },
     "execution_count": 36,
     "metadata": {},
     "output_type": "execute_result"
    }
   ],
   "source": [
    "# at least one, so there could be zero to many.  this sounds like its indicating the type of distribution.  0 or >0\n",
    "# no, on second thought the choice is there is a truck(s), or there is not.\n",
    "#the outcomes are truck(s) or no truck.\n",
    "\n",
    "outcomes = [0,1]\n",
    "n_days = 3\n",
    "#0 is no truck, 1 is a truck(s)\n",
    "truck_in_park = np.random.choice(outcomes, size = (10_000, n_days), p = (.3, .7))\n",
    "\n",
    "truck_sighting = truck_in_park.sum(axis=1)\n",
    "(truck_sighting == 0).mean()"
   ]
  },
  {
   "cell_type": "code",
   "execution_count": 38,
   "id": "1594894a",
   "metadata": {},
   "outputs": [
    {
     "data": {
      "text/plain": [
       "0.9918"
      ]
     },
     "execution_count": 38,
     "metadata": {},
     "output_type": "execute_result"
    }
   ],
   "source": [
    "outcomes = [0,1]\n",
    "n_days = 4\n",
    "#0 is no truck, 1 is a truck(s)\n",
    "truck_in_park = np.random.choice(outcomes, size = (10_000, n_days), p = (.3, .7))\n",
    "\n",
    "truck_sighting = truck_in_park.sum(axis=1)\n",
    "(truck_sighting > 0).mean()"
   ]
  },
  {
   "cell_type": "markdown",
   "id": "429de149",
   "metadata": {},
   "source": [
    "#### 8. If 23 people are in the same room, what are the odds that two of them share a birthday? What if it's 20 people? 40?"
   ]
  },
  {
   "cell_type": "code",
   "execution_count": 39,
   "id": "e7f37e37",
   "metadata": {},
   "outputs": [
    {
     "data": {
      "text/plain": [
       "0.0665"
      ]
     },
     "execution_count": 39,
     "metadata": {},
     "output_type": "execute_result"
    }
   ],
   "source": [
    "#1/365 chance; #of people is the number of columns, a match is a yes\n",
    "\n",
    "outcomes = [0,1]\n",
    "#0 is not a bday match, 1 is a bday match\n",
    "n_people = 23\n",
    "bdays = np.random.choice(outcomes, size = (10_000, n_people), p = (.997, .003))\n",
    "\n",
    "bday_match = bdays.sum(axis=1)\n",
    "(bday_match == 1).mean()\n",
    "                              \n",
    "                              "
   ]
  },
  {
   "cell_type": "code",
   "execution_count": 40,
   "id": "2ff8e89b",
   "metadata": {},
   "outputs": [
    {
     "data": {
      "text/plain": [
       "0.0555"
      ]
     },
     "execution_count": 40,
     "metadata": {},
     "output_type": "execute_result"
    }
   ],
   "source": [
    "outcomes = [0,1]\n",
    "#0 is not a bday match, 1 is a bday match\n",
    "n_people = 20\n",
    "bdays = np.random.choice(outcomes, size = (10_000, n_people), p = (.997, .003))\n",
    "\n",
    "bday_match = bdays.sum(axis=1)\n",
    "(bday_match == 1).mean()"
   ]
  },
  {
   "cell_type": "code",
   "execution_count": 41,
   "id": "263f318c",
   "metadata": {},
   "outputs": [
    {
     "data": {
      "text/plain": [
       "0.1076"
      ]
     },
     "execution_count": 41,
     "metadata": {},
     "output_type": "execute_result"
    }
   ],
   "source": [
    "outcomes = [0,1]\n",
    "#0 is not a bday match, 1 is a bday match\n",
    "n_people = 40\n",
    "bdays = np.random.choice(outcomes, size = (10_000, n_people), p = (.997, .003))\n",
    "\n",
    "bday_match = bdays.sum(axis=1)\n",
    "(bday_match == 1).mean()"
   ]
  },
  {
   "cell_type": "code",
   "execution_count": 45,
   "id": "cc8cda8a",
   "metadata": {},
   "outputs": [
    {
     "data": {
      "text/plain": [
       "array([[0, 0, 0, 0, 0],\n",
       "       [0, 0, 0, 0, 0],\n",
       "       [0, 0, 0, 0, 0],\n",
       "       [0, 0, 0, 0, 0],\n",
       "       [0, 0, 0, 0, 0]])"
      ]
     },
     "execution_count": 45,
     "metadata": {},
     "output_type": "execute_result"
    }
   ],
   "source": [
    "n_people = 5\n",
    "bdays = np.random.choice(outcomes, size = (10_000, n_people), p = (.997, .003))\n",
    "bdays[0:5]"
   ]
  },
  {
   "cell_type": "code",
   "execution_count": 46,
   "id": "42bd7669",
   "metadata": {},
   "outputs": [],
   "source": [
    "n_simulations = 1_000_000\n",
    "n_trials = 23\n",
    "same_birthday = np.random.randint(low = 1,high = 366 , size=(n_simulations,n_trials),dtype = int)"
   ]
  },
  {
   "cell_type": "code",
   "execution_count": 47,
   "id": "033655d1",
   "metadata": {},
   "outputs": [
    {
     "data": {
      "text/plain": [
       "array([[317, 198, 256, 258, 160, 228,  99, 230, 155, 326,  37, 102, 322,\n",
       "        280,  34, 199, 210, 102,   3, 263, 328, 247, 237],\n",
       "       [268, 299, 234, 153, 293, 157, 158, 282, 150, 112, 184, 321, 160,\n",
       "        350, 350, 175, 182,   3,  33, 220,  41, 339, 160],\n",
       "       [ 45, 130, 319, 206,  93, 204, 278,  56,  70, 148,  88, 145,  84,\n",
       "         80, 328,   9, 306, 220, 219, 225, 329, 301, 345],\n",
       "       [221, 331,  88,  21,  94, 187, 230,  61, 245, 308, 229,  56, 304,\n",
       "        123, 333, 265, 244, 120, 352, 322,  60, 145, 295],\n",
       "       [ 62, 159, 125,   4, 230, 282, 295,  86,  98, 332, 335, 199, 196,\n",
       "         71, 227, 262, 272, 144, 287, 269, 172,  92, 227]])"
      ]
     },
     "execution_count": 47,
     "metadata": {},
     "output_type": "execute_result"
    }
   ],
   "source": [
    "same_birthday[0:5]"
   ]
  },
  {
   "cell_type": "code",
   "execution_count": 54,
   "id": "05006876",
   "metadata": {},
   "outputs": [],
   "source": [
    "#here is something I found setting up a df and function to determine the probability:\n",
    "import random\n",
    "import datetime\n",
    "\n",
    "birthdays = pd.DataFrame(np.empty([365,2]), columns = ['k','probability'], index = range(1,366))\n",
    "birthdays['k'] = birthdays.index"
   ]
  },
  {
   "cell_type": "code",
   "execution_count": 49,
   "id": "f5d457e2",
   "metadata": {},
   "outputs": [],
   "source": [
    "def probability_of_shared_bday(k):\n",
    "    end_point = 366 - k\n",
    "    ratio = 1\n",
    "    for i in range(end_point, 366):\n",
    "        ratio *= i / 365\n",
    "    probability_of_no_match = (1 - ratio)\n",
    "    return probability_of_no_match"
   ]
  },
  {
   "cell_type": "code",
   "execution_count": 50,
   "id": "ad4ebc1b",
   "metadata": {},
   "outputs": [
    {
     "data": {
      "text/plain": [
       "0.5072972343239853"
      ]
     },
     "execution_count": 50,
     "metadata": {},
     "output_type": "execute_result"
    }
   ],
   "source": [
    "probability_of_shared_bday(23)"
   ]
  },
  {
   "cell_type": "code",
   "execution_count": 51,
   "id": "840d2cd3",
   "metadata": {},
   "outputs": [
    {
     "data": {
      "text/plain": [
       "0.891231809817949"
      ]
     },
     "execution_count": 51,
     "metadata": {},
     "output_type": "execute_result"
    }
   ],
   "source": [
    "probability_of_shared_bday(40)"
   ]
  },
  {
   "cell_type": "code",
   "execution_count": 59,
   "id": "ee02abbf",
   "metadata": {},
   "outputs": [],
   "source": [
    "def proportion_shared_bdays(k):\n",
    "    parties_with_shared_bday = 0\n",
    "    for i in range(1000):\n",
    "        random_indexes = random.sample(range(1,341),k)\n",
    "        party = birthdays['k'][random_indexes]\n",
    "        if sum(party.duplicated())>0:\n",
    "            parties_with_shared_bday +=1\n",
    "    proportion_shared_bdays = parties_with_shared_bday/1000\n",
    "    return proportion_shared_bdays"
   ]
  },
  {
   "cell_type": "code",
   "execution_count": 60,
   "id": "a4c3796f",
   "metadata": {},
   "outputs": [
    {
     "data": {
      "text/plain": [
       "0.0"
      ]
     },
     "execution_count": 60,
     "metadata": {},
     "output_type": "execute_result"
    }
   ],
   "source": [
    "proportion_shared_bdays(23)"
   ]
  },
  {
   "cell_type": "code",
   "execution_count": 62,
   "id": "b87396a9",
   "metadata": {},
   "outputs": [
    {
     "data": {
      "text/plain": [
       "0.9999996927510721"
      ]
     },
     "execution_count": 62,
     "metadata": {},
     "output_type": "execute_result"
    }
   ],
   "source": [
    "probability_of_shared_bday(100)"
   ]
  },
  {
   "cell_type": "code",
   "execution_count": null,
   "id": "0045f661",
   "metadata": {},
   "outputs": [],
   "source": []
  }
 ],
 "metadata": {
  "kernelspec": {
   "display_name": "Python 3",
   "language": "python",
   "name": "python3"
  },
  "language_info": {
   "codemirror_mode": {
    "name": "ipython",
    "version": 3
   },
   "file_extension": ".py",
   "mimetype": "text/x-python",
   "name": "python",
   "nbconvert_exporter": "python",
   "pygments_lexer": "ipython3",
   "version": "3.8.8"
  }
 },
 "nbformat": 4,
 "nbformat_minor": 5
}
