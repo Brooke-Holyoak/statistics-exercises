{
 "cells": [
  {
   "cell_type": "code",
   "execution_count": 1,
   "id": "a8396723",
   "metadata": {},
   "outputs": [],
   "source": [
    "import pandas as pd\n",
    "import matplotlib.pyplot as plt\n",
    "import scipy.stats as stats\n",
    "import seaborn as sns\n",
    "\n",
    "df = pd.read_csv(\"Cust_Churn_Telco.csv\")"
   ]
  },
  {
   "cell_type": "code",
   "execution_count": 2,
   "id": "ac267630",
   "metadata": {},
   "outputs": [
    {
     "data": {
      "text/plain": [
       "<AxesSubplot:>"
      ]
     },
     "execution_count": 2,
     "metadata": {},
     "output_type": "execute_result"
    },
    {
     "data": {
      "image/png": "[encoded data removed]",
      "text/plain": [
       "<Figure size 432x288 with 1 Axes>"
      ]
     },
     "metadata": {
      "needs_background": "light"
     },
     "output_type": "display_data"
    }
   ],
   "source": [
    "# we need to plot our distributions\n",
    "df['MonthlyCharges'].hist()"
   ]
  },
  {
   "cell_type": "code",
   "execution_count": 3,
   "id": "6793fb21",
   "metadata": {},
   "outputs": [
    {
     "data": {
      "text/plain": [
       "<AxesSubplot:>"
      ]
     },
     "execution_count": 3,
     "metadata": {},
     "output_type": "execute_result"
    },
    {
     "data": {
      "image/png": "[encoded data removed]",
      "text/plain": [
       "<Figure size 432x288 with 1 Axes>"
      ]
     },
     "metadata": {
      "needs_background": "light"
     },
     "output_type": "display_data"
    }
   ],
   "source": [
    "churn_sample = df[df.Churn=='Yes'].MonthlyCharges\n",
    "\n",
    "churn_sample.hist()"
   ]
  },
  {
   "cell_type": "code",
   "execution_count": 4,
   "id": "d398b675",
   "metadata": {},
   "outputs": [
    {
     "data": {
      "text/plain": [
       "(7043, 21)"
      ]
     },
     "execution_count": 4,
     "metadata": {},
     "output_type": "execute_result"
    }
   ],
   "source": [
    "df.shape"
   ]
  },
  {
   "cell_type": "markdown",
   "id": "9f772d48",
   "metadata": {},
   "source": [
    "$H_{0}$: Mean of monthly charges of churned customers <= Mean of monthly charges of all customers\n",
    "$H_{a}$: Mean of monthly charges of churned customers > Mean of monthly charges of all customers"
   ]
  },
  {
   "cell_type": "code",
   "execution_count": 5,
   "id": "f8e9ad23",
   "metadata": {},
   "outputs": [],
   "source": [
    "#set alpha\n",
    "alpha = .05"
   ]
  },
  {
   "cell_type": "code",
   "execution_count": 6,
   "id": "71c1ee58",
   "metadata": {},
   "outputs": [
    {
     "data": {
      "text/plain": [
       "No     5174\n",
       "Yes    1869\n",
       "Name: Churn, dtype: int64"
      ]
     },
     "execution_count": 6,
     "metadata": {},
     "output_type": "execute_result"
    }
   ],
   "source": [
    "df.Churn.value_counts()  #this is to verify assumptions"
   ]
  },
  {
   "cell_type": "code",
   "execution_count": 8,
   "id": "cdcf142c",
   "metadata": {},
   "outputs": [
    {
     "data": {
      "text/plain": [
       "2        53.85\n",
       "4        70.70\n",
       "5        99.65\n",
       "8       104.80\n",
       "13      103.70\n",
       "         ...  \n",
       "7021     59.80\n",
       "7026     44.20\n",
       "7032     75.75\n",
       "7034    102.95\n",
       "7041     74.40\n",
       "Name: MonthlyCharges, Length: 1869, dtype: float64"
      ]
     },
     "execution_count": 8,
     "metadata": {},
     "output_type": "execute_result"
    }
   ],
   "source": [
    "churn_sample = df[df.Churn == 'Yes'].MonthlyCharges\n",
    "churn_sample\n",
    "\n",
    "#this is our \"array like object\""
   ]
  },
  {
   "cell_type": "code",
   "execution_count": 9,
   "id": "96b940ea",
   "metadata": {},
   "outputs": [
    {
     "data": {
      "text/plain": [
       "64.76169246059922"
      ]
     },
     "execution_count": 9,
     "metadata": {},
     "output_type": "execute_result"
    }
   ],
   "source": [
    "overall_mean = df.MonthlyCharges.mean()\n",
    "overall_mean\n",
    "\n",
    "#this is the actual float value"
   ]
  },
  {
   "cell_type": "code",
   "execution_count": 10,
   "id": "a0ae94ed",
   "metadata": {},
   "outputs": [
    {
     "name": "stdout",
     "output_type": "stream",
     "text": [
      "16.965403080505645 3.7406392993841064e-60 1.8703196496920532e-60 0.05\n"
     ]
    }
   ],
   "source": [
    "t, p = stats.ttest_1samp(churn_sample, overall_mean)\n",
    "print(t, p, p/2, alpha)"
   ]
  },
  {
   "cell_type": "code",
   "execution_count": 11,
   "id": "ba80d8af",
   "metadata": {},
   "outputs": [
    {
     "name": "stdout",
     "output_type": "stream",
     "text": [
      "is p-value significant? True\n",
      "is t_statistic > 0 True\n"
     ]
    }
   ],
   "source": [
    "# is p/2 < alpha?  Yes, this is true.\n",
    "print ('is p-value significant?', p/2 < alpha)\n",
    "print (\"is t_statistic > 0\", t > 0)"
   ]
  },
  {
   "cell_type": "code",
   "execution_count": 12,
   "id": "bdf939f0",
   "metadata": {},
   "outputs": [
    {
     "name": "stdout",
     "output_type": "stream",
     "text": [
      "We reject $H_{0}$\n"
     ]
    }
   ],
   "source": [
    "if p/2 > alpha:\n",
    "    print(\"We fail to reject $H_{0}$\")\n",
    "elif t < 0:\n",
    "    print(\"We fail to reject $H_{0}$\")\n",
    "else:\n",
    "    print(\"We reject $H_{0}$\")"
   ]
  },
  {
   "cell_type": "code",
   "execution_count": 13,
   "id": "d04a28d2",
   "metadata": {},
   "outputs": [],
   "source": [
    "#We are basically saying that p/2 is < alpha AND t > 0, so we are rejecting null.  This is a True Positive."
   ]
  },
  {
   "cell_type": "code",
   "execution_count": 14,
   "id": "02405972",
   "metadata": {},
   "outputs": [
    {
     "data": {
      "text/plain": [
       "(16.965403080505645, 3.7406392993841064e-60)"
      ]
     },
     "execution_count": 14,
     "metadata": {},
     "output_type": "execute_result"
    }
   ],
   "source": [
    "#2 second example now:\n",
    "\n",
    "t, p = stats.ttest_1samp(churn_sample, overall_mean)\n",
    "t, p"
   ]
  },
  {
   "cell_type": "code",
   "execution_count": 15,
   "id": "94a47371",
   "metadata": {},
   "outputs": [
    {
     "data": {
      "text/plain": [
       "True"
      ]
     },
     "execution_count": 15,
     "metadata": {},
     "output_type": "execute_result"
    }
   ],
   "source": [
    "# is p-value less than alpha?\n",
    "p < alpha"
   ]
  },
  {
   "cell_type": "code",
   "execution_count": 16,
   "id": "faf46f82",
   "metadata": {},
   "outputs": [],
   "source": [
    "#This means that The mean monthly charges of churned customers is significantly different."
   ]
  },
  {
   "cell_type": "code",
   "execution_count": 17,
   "id": "9e032339",
   "metadata": {},
   "outputs": [
    {
     "data": {
      "text/plain": [
       "(16.965403080505645, 3.7406392993841064e-60)"
      ]
     },
     "execution_count": 17,
     "metadata": {},
     "output_type": "execute_result"
    }
   ],
   "source": [
    "#example 3: \n",
    "t, p = stats.ttest_1samp(churn_sample, overall_mean)\n",
    "t, p"
   ]
  },
  {
   "cell_type": "code",
   "execution_count": 19,
   "id": "2abc7c14",
   "metadata": {},
   "outputs": [
    {
     "name": "stdout",
     "output_type": "stream",
     "text": [
      "False\n",
      "True\n"
     ]
    }
   ],
   "source": [
    "#Is 1/2 of p < alpha AND t-stat <0?\n",
    "print(t < 0)\n",
    "print(p/2 < alpha)"
   ]
  },
  {
   "cell_type": "code",
   "execution_count": 20,
   "id": "6987d1f1",
   "metadata": {},
   "outputs": [],
   "source": [
    "#we fail to reject the null hypothesis."
   ]
  },
  {
   "cell_type": "code",
   "execution_count": 21,
   "id": "0bb6ec00",
   "metadata": {},
   "outputs": [],
   "source": [
    "# New Example"
   ]
  },
  {
   "cell_type": "code",
   "execution_count": 22,
   "id": "07b26251",
   "metadata": {},
   "outputs": [
    {
     "data": {
      "text/plain": [
       "2        53.85\n",
       "4        70.70\n",
       "5        99.65\n",
       "8       104.80\n",
       "13      103.70\n",
       "         ...  \n",
       "7021     59.80\n",
       "7026     44.20\n",
       "7032     75.75\n",
       "7034    102.95\n",
       "7041     74.40\n",
       "Name: MonthlyCharges, Length: 1869, dtype: float64"
      ]
     },
     "execution_count": 22,
     "metadata": {},
     "output_type": "execute_result"
    }
   ],
   "source": [
    "churn_sample = df[df.Churn == 'Yes'].MonthlyCharges\n",
    "churn_sample\n",
    "\n",
    "#this gives us an array like object (a series)"
   ]
  },
  {
   "cell_type": "code",
   "execution_count": 23,
   "id": "6e72dea2",
   "metadata": {},
   "outputs": [
    {
     "data": {
      "text/plain": [
       "<AxesSubplot:>"
      ]
     },
     "execution_count": 23,
     "metadata": {},
     "output_type": "execute_result"
    },
    {
     "data": {
      "image/png": "[encoded data removed]",
      "text/plain": [
       "<Figure size 432x288 with 1 Axes>"
      ]
     },
     "metadata": {
      "needs_background": "light"
     },
     "output_type": "display_data"
    }
   ],
   "source": [
    "churn_sample.hist()"
   ]
  },
  {
   "cell_type": "code",
   "execution_count": 24,
   "id": "5c5dd0c7",
   "metadata": {},
   "outputs": [
    {
     "data": {
      "text/plain": [
       "<AxesSubplot:>"
      ]
     },
     "execution_count": 24,
     "metadata": {},
     "output_type": "execute_result"
    },
    {
     "data": {
      "image/png": "[encoded data removed]",
      "text/plain": [
       "<Figure size 432x288 with 1 Axes>"
      ]
     },
     "metadata": {
      "needs_background": "light"
     },
     "output_type": "display_data"
    }
   ],
   "source": [
    "no_churn_sample = df[df.Churn=='No'].MonthlyCharges\n",
    "\n",
    "no_churn_sample.hist()"
   ]
  },
  {
   "cell_type": "code",
   "execution_count": 25,
   "id": "b6282aa6",
   "metadata": {},
   "outputs": [],
   "source": [
    "#set alpha\n",
    "alpha = .05"
   ]
  },
  {
   "cell_type": "code",
   "execution_count": 26,
   "id": "2282b47d",
   "metadata": {},
   "outputs": [
    {
     "name": "stdout",
     "output_type": "stream",
     "text": [
      "608.4141833954304\n",
      "966.7527670734287\n"
     ]
    }
   ],
   "source": [
    "print(churn_sample.var())\n",
    "print(no_churn_sample.var())"
   ]
  },
  {
   "cell_type": "code",
   "execution_count": 27,
   "id": "fc749097",
   "metadata": {},
   "outputs": [
    {
     "data": {
      "text/plain": [
       "(18.407526676414673, 4.2962246657737696e-73)"
      ]
     },
     "execution_count": 27,
     "metadata": {},
     "output_type": "execute_result"
    }
   ],
   "source": [
    "t, p = stats.ttest_ind(churn_sample, no_churn_sample, equal_var = False)\n",
    "t, p/2"
   ]
  },
  {
   "cell_type": "code",
   "execution_count": null,
   "id": "99c77e96",
   "metadata": {},
   "outputs": [],
   "source": []
  }
 ],
 "metadata": {
  "kernelspec": {
   "display_name": "Python 3",
   "language": "python",
   "name": "python3"
  },
  "language_info": {
   "codemirror_mode": {
    "name": "ipython",
    "version": 3
   },
   "file_extension": ".py",
   "mimetype": "text/x-python",
   "name": "python",
   "nbconvert_exporter": "python",
   "pygments_lexer": "ipython3",
   "version": "3.8.8"
  }
 },
 "nbformat": 4,
 "nbformat_minor": 5
}
