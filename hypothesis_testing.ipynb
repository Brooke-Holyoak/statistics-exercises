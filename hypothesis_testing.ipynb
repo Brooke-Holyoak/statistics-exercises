{
 "cells": [
  {
   "cell_type": "markdown",
   "id": "ce3e1f31",
   "metadata": {},
   "source": [
    "#### Exercises\n",
    "Do your work for this exercise in a jupyter notebook named hypothesis_testing.ipynb.\n",
    "\n",
    "For each of the following questions, formulate a null and alternative hypothesis (be as specific as you can be), then give an example of what a true positive, true negative, type I and type II errors would look like. Note that some of the questions are intentionally phrased in a vague way. It is your job to reword these as more precise questions that could be tested.\n",
    "\n",
    "1. Has the network latency gone up since we switched internet service providers?\n",
    "2. Is the website redesign any good?\n",
    "3. Is our television ad driving more sales?"
   ]
  },
  {
   "cell_type": "markdown",
   "id": "046c2d3d",
   "metadata": {},
   "source": [
    "###### 1. Has the network latency gone up since we switched internet service providers?\n",
    "         Rewording:  Is the current network latency greater than the previous network latency?\n",
    "\n",
    "     -Null Hypothesis:  The current isp latency is <= to the previous isp latency.\n",
    "     -Alternative Hypothesis:  The current isp latency is > than the previous isp latency.\n",
    "    \n",
    "     -True positive: the current isp latency is <= the previous isp latency, with a p < .05.\n",
    "     -True negative: the current isp latency is <= the previous isp latency with a p > .05.\n",
    "     -Type I error: We reject the null hypothesis as false, because the p value is < .05, but in reality, there is no difference or increase in latency. \n",
    "     -Type II error:  We accept the null hypothesis as true because the p value is > than .05, but in reality, the null hypothesis is true."
   ]
  },
  {
   "cell_type": "markdown",
   "id": "dd11fe99",
   "metadata": {},
   "source": [
    "###### 2. Is the website redesign any good?\n",
    "         Rewording: Has the daily_conversion_rate increased since the website redesign? \n",
    "\n",
    "     -Null Hypothesis: daily_conversion_rate after_redesign is <= the daily_conversion_rate pre_redesign\n",
    "     -Alternative Hypothesis:  daily_conversion_rate after_redesign is > the daily_conversion_rate pre_redesign\n",
    "    \n",
    "     -True positive: The daily_conversion_rate after_redesign is <= the daily_conversion_rate pre_redesign, with a p < .05.\n",
    "     -True negative: The daily_conversion_rate after_redesign is <= the daily_conversion_rate pre_redesign with a p > .05.\n",
    "     -Type I error: We reject the null hypothesis as false, because the p value is < .05, but in reality, there is no difference or increase in the daily_conversion_rate. \n",
    "     -Type II error:  We accept the null hypothesis as true because the p value is > than .05, but in reality, the null hypothesis is true."
   ]
  },
  {
   "cell_type": "markdown",
   "id": "c0a1ff53",
   "metadata": {},
   "source": [
    "###### 3. Is our television ad driving more sales?\n",
    "         Rewording:  (If the tv ad has a specific discount code):  Are the amount of sales using the tv_code more than sales using other not_tv_codes?\n",
    "\n",
    "     -Null Hypothesis: The amount of sales using the tv_code <= than other not_tv_codes \n",
    "     -Alternative Hypothesis:  The amount of sales using the tv_code > than other not_tv_codes\n",
    "    \n",
    "     -True positive: The amount of sales with the tv_code is > sales with other not_tv_codes, with a p < .05.\n",
    "     -True negative: The amount of sales with the tv_code is <= sales with other not_tv_codes, with a p > .05.\n",
    "     -Type I error: We reject the null hypothesis as false, because the p value is < .05, but in reality, there is no difference in sales using the tv_code. \n",
    "     -Type II error:  We accept the null hypothesis as true because the p value is > than .05, but in reality, the null hypothesis is true."
   ]
  },
  {
   "cell_type": "code",
   "execution_count": 71,
   "id": "4cb5cc60",
   "metadata": {},
   "outputs": [],
   "source": [
    "import pandas as pd\n",
    "import matplotlib.pyplot as plt\n",
    "import scipy.stats as stats\n",
    "import seaborn as sns\n",
    "\n",
    "import numpy as np\n",
    "import pandas as pd\n",
    "from pydataset import data"
   ]
  },
  {
   "cell_type": "markdown",
   "id": "d66e63ae",
   "metadata": {},
   "source": [
    "###### Exercises for T Testing\n",
    "\n",
    "###### 1. Ace Realty wants to determine whether the average time it takes to sell homes is different for its two offices. A sample of 40 sales from office #1 revealed a mean of 90 days and a standard deviation of 15 days. A sample of 50 sales from office #2 revealed a mean of 100 days and a standard deviation of 20 days. Use a .05 level of significance.\n",
    "\n",
    "###### 2. Load the mpg dataset and use it to answer the following questions:\n",
    "\n",
    "###### a. Is there a difference in fuel-efficiency in cars from 2008 vs 1999?\n",
    "###### b. Are compact cars more fuel-efficient than the average car?\n",
    "###### c. Do manual cars get better gas mileage than automatic cars?"
   ]
  },
  {
   "cell_type": "code",
   "execution_count": 5,
   "id": "a2d1e55b",
   "metadata": {},
   "outputs": [],
   "source": [
    "# #1.\n",
    "# office 1 sample sales: 40 sales, mean:90 days, std:15 days\n",
    "# office 2 samples sales: 50 sales, mean: 100 days, std: 20 days.\n",
    "#set alpha to .05\n",
    "\n",
    "#is the mean sales of office 1 different than the mean sales of office 2?\n",
    "\n",
    "\n",
    "\n"
   ]
  },
  {
   "cell_type": "markdown",
   "id": "5889709c",
   "metadata": {},
   "source": [
    "Null Hypothesis | $H_{0}$: There is no difference in the mean sales of Office 1 when compared to the mean sales of Office 2."
   ]
  },
  {
   "cell_type": "markdown",
   "id": "d05b5e47",
   "metadata": {},
   "source": [
    "Alternative Hyphothesis | $H_{a}$: There is a difference in the mean sales of Office 1 when compared to the mean sales of Office 2."
   ]
  },
  {
   "cell_type": "code",
   "execution_count": 60,
   "id": "1ce1f4b3",
   "metadata": {},
   "outputs": [],
   "source": [
    "# using a simulation, i can create random numbers for office 1 and office 2\n",
    "\n",
    "office_1 = np.random.normal(loc = 90, scale = 15, size = (40))\n",
    "office_2 = np.random.normal(loc = 100, scale = 20, size = (50))\n",
    "\n"
   ]
  },
  {
   "cell_type": "code",
   "execution_count": 61,
   "id": "cd32e402",
   "metadata": {},
   "outputs": [],
   "source": [
    "df_1 = pd.DataFrame(office_1)\n",
    "df_2 = pd.DataFrame(office_2)"
   ]
  },
  {
   "cell_type": "code",
   "execution_count": 62,
   "id": "5e39329f",
   "metadata": {},
   "outputs": [
    {
     "data": {
      "text/plain": [
       "array([[<AxesSubplot:title={'center':'0'}>]], dtype=object)"
      ]
     },
     "execution_count": 62,
     "metadata": {},
     "output_type": "execute_result"
    },
    {
     "data": {
      "image/png": "[encoded data removed]",
      "text/plain": [
       "<Figure size 432x288 with 1 Axes>"
      ]
     },
     "metadata": {
      "needs_background": "light"
     },
     "output_type": "display_data"
    }
   ],
   "source": [
    "df_1.hist()"
   ]
  },
  {
   "cell_type": "code",
   "execution_count": 63,
   "id": "84715c4b",
   "metadata": {},
   "outputs": [
    {
     "data": {
      "text/plain": [
       "array([[<AxesSubplot:title={'center':'0'}>]], dtype=object)"
      ]
     },
     "execution_count": 63,
     "metadata": {},
     "output_type": "execute_result"
    },
    {
     "data": {
      "image/png": "[encoded data removed]",
      "text/plain": [
       "<Figure size 432x288 with 1 Axes>"
      ]
     },
     "metadata": {
      "needs_background": "light"
     },
     "output_type": "display_data"
    }
   ],
   "source": [
    "df_2.hist()"
   ]
  },
  {
   "cell_type": "code",
   "execution_count": 64,
   "id": "c5624feb",
   "metadata": {},
   "outputs": [],
   "source": [
    "#verifying that the arrays are normally(ish) distributed. Of course they are since we using np.random.normal.  \n",
    "#but, just plotting for habit's sake, bc if numbers are not randomized from np, then I'd def want to plot to check"
   ]
  },
  {
   "cell_type": "code",
   "execution_count": 65,
   "id": "0fc9b349",
   "metadata": {},
   "outputs": [],
   "source": [
    "#set alpha to .05\n",
    "\n",
    "alpha = .05"
   ]
  },
  {
   "cell_type": "code",
   "execution_count": 66,
   "id": "0b14dfc7",
   "metadata": {},
   "outputs": [
    {
     "name": "stdout",
     "output_type": "stream",
     "text": [
      "258.8752651855405\n",
      "337.626311864651\n"
     ]
    }
   ],
   "source": [
    "#comparing the means to each other independently.  so we'll use the independent t-test, two tailed\n",
    "\n",
    "#scipy.stats.ttest_ind\n",
    "\n",
    "#first check the variance:\n",
    "\n",
    "print(office_1.var())\n",
    "print(office_2.var())"
   ]
  },
  {
   "cell_type": "code",
   "execution_count": 67,
   "id": "67b90f68",
   "metadata": {},
   "outputs": [
    {
     "data": {
      "text/plain": [
       "(-3.9137015352470694, 0.00017976565567945845)"
      ]
     },
     "execution_count": 67,
     "metadata": {},
     "output_type": "execute_result"
    }
   ],
   "source": [
    "#variances are not equal, so we'll set the equal_var to false.\n",
    "#run the scipy.stats.ttest_ind test\n",
    "\n",
    "t, p = stats.ttest_ind(office_1, office_2, equal_var=False)\n",
    "\n",
    "t, p"
   ]
  },
  {
   "cell_type": "code",
   "execution_count": 70,
   "id": "73f4ed54",
   "metadata": {},
   "outputs": [
    {
     "name": "stdout",
     "output_type": "stream",
     "text": [
      "Reject $H_{0}$?  True\n"
     ]
    }
   ],
   "source": [
    "print(\"Reject $H_{0}$? \", p < alpha)"
   ]
  },
  {
   "cell_type": "code",
   "execution_count": 73,
   "id": "2e08ab43",
   "metadata": {},
   "outputs": [],
   "source": [
    "df = data('mpg')"
   ]
  },
  {
   "cell_type": "code",
   "execution_count": 74,
   "id": "923dc9f3",
   "metadata": {},
   "outputs": [
    {
     "data": {
      "text/html": [
       "<div>\n",
       "<style scoped>\n",
       "    .dataframe tbody tr th:only-of-type {\n",
       "        vertical-align: middle;\n",
       "    }\n",
       "\n",
       "    .dataframe tbody tr th {\n",
       "        vertical-align: top;\n",
       "    }\n",
       "\n",
       "    .dataframe thead th {\n",
       "        text-align: right;\n",
       "    }\n",
       "</style>\n",
       "<table border=\"1\" class=\"dataframe\">\n",
       "  <thead>\n",
       "    <tr style=\"text-align: right;\">\n",
       "      <th></th>\n",
       "      <th>manufacturer</th>\n",
       "      <th>model</th>\n",
       "      <th>displ</th>\n",
       "      <th>year</th>\n",
       "      <th>cyl</th>\n",
       "      <th>trans</th>\n",
       "      <th>drv</th>\n",
       "      <th>cty</th>\n",
       "      <th>hwy</th>\n",
       "      <th>fl</th>\n",
       "      <th>class</th>\n",
       "    </tr>\n",
       "  </thead>\n",
       "  <tbody>\n",
       "    <tr>\n",
       "      <th>1</th>\n",
       "      <td>audi</td>\n",
       "      <td>a4</td>\n",
       "      <td>1.8</td>\n",
       "      <td>1999</td>\n",
       "      <td>4</td>\n",
       "      <td>auto(l5)</td>\n",
       "      <td>f</td>\n",
       "      <td>18</td>\n",
       "      <td>29</td>\n",
       "      <td>p</td>\n",
       "      <td>compact</td>\n",
       "    </tr>\n",
       "    <tr>\n",
       "      <th>2</th>\n",
       "      <td>audi</td>\n",
       "      <td>a4</td>\n",
       "      <td>1.8</td>\n",
       "      <td>1999</td>\n",
       "      <td>4</td>\n",
       "      <td>manual(m5)</td>\n",
       "      <td>f</td>\n",
       "      <td>21</td>\n",
       "      <td>29</td>\n",
       "      <td>p</td>\n",
       "      <td>compact</td>\n",
       "    </tr>\n",
       "    <tr>\n",
       "      <th>3</th>\n",
       "      <td>audi</td>\n",
       "      <td>a4</td>\n",
       "      <td>2.0</td>\n",
       "      <td>2008</td>\n",
       "      <td>4</td>\n",
       "      <td>manual(m6)</td>\n",
       "      <td>f</td>\n",
       "      <td>20</td>\n",
       "      <td>31</td>\n",
       "      <td>p</td>\n",
       "      <td>compact</td>\n",
       "    </tr>\n",
       "    <tr>\n",
       "      <th>4</th>\n",
       "      <td>audi</td>\n",
       "      <td>a4</td>\n",
       "      <td>2.0</td>\n",
       "      <td>2008</td>\n",
       "      <td>4</td>\n",
       "      <td>auto(av)</td>\n",
       "      <td>f</td>\n",
       "      <td>21</td>\n",
       "      <td>30</td>\n",
       "      <td>p</td>\n",
       "      <td>compact</td>\n",
       "    </tr>\n",
       "    <tr>\n",
       "      <th>5</th>\n",
       "      <td>audi</td>\n",
       "      <td>a4</td>\n",
       "      <td>2.8</td>\n",
       "      <td>1999</td>\n",
       "      <td>6</td>\n",
       "      <td>auto(l5)</td>\n",
       "      <td>f</td>\n",
       "      <td>16</td>\n",
       "      <td>26</td>\n",
       "      <td>p</td>\n",
       "      <td>compact</td>\n",
       "    </tr>\n",
       "  </tbody>\n",
       "</table>\n",
       "</div>"
      ],
      "text/plain": [
       "  manufacturer model  displ  year  cyl       trans drv  cty  hwy fl    class\n",
       "1         audi    a4    1.8  1999    4    auto(l5)   f   18   29  p  compact\n",
       "2         audi    a4    1.8  1999    4  manual(m5)   f   21   29  p  compact\n",
       "3         audi    a4    2.0  2008    4  manual(m6)   f   20   31  p  compact\n",
       "4         audi    a4    2.0  2008    4    auto(av)   f   21   30  p  compact\n",
       "5         audi    a4    2.8  1999    6    auto(l5)   f   16   26  p  compact"
      ]
     },
     "execution_count": 74,
     "metadata": {},
     "output_type": "execute_result"
    }
   ],
   "source": [
    "df.head()"
   ]
  },
  {
   "cell_type": "markdown",
   "id": "870f94f1",
   "metadata": {},
   "source": [
    "###### a. Is there a difference in fuel-efficiency in cars from 2008 vs 1999?\n",
    "###### b. Are compact cars more fuel-efficient than the average car?\n",
    "###### c. Do manual cars get better gas mileage than automatic cars?"
   ]
  },
  {
   "cell_type": "code",
   "execution_count": 81,
   "id": "826eb43e",
   "metadata": {},
   "outputs": [
    {
     "data": {
      "text/plain": [
       "3     20\n",
       "4     21\n",
       "7     18\n",
       "10    20\n",
       "11    19\n",
       "Name: cty, dtype: int64"
      ]
     },
     "execution_count": 81,
     "metadata": {},
     "output_type": "execute_result"
    }
   ],
   "source": [
    "df[df.year == 2008].cty.head()"
   ]
  },
  {
   "cell_type": "code",
   "execution_count": 82,
   "id": "b49595a4",
   "metadata": {},
   "outputs": [],
   "source": [
    "df[\"avg_mpg\"] = (df.cty + df.hwy) / 2"
   ]
  },
  {
   "cell_type": "code",
   "execution_count": 83,
   "id": "fd7e60fb",
   "metadata": {},
   "outputs": [
    {
     "data": {
      "text/html": [
       "<div>\n",
       "<style scoped>\n",
       "    .dataframe tbody tr th:only-of-type {\n",
       "        vertical-align: middle;\n",
       "    }\n",
       "\n",
       "    .dataframe tbody tr th {\n",
       "        vertical-align: top;\n",
       "    }\n",
       "\n",
       "    .dataframe thead th {\n",
       "        text-align: right;\n",
       "    }\n",
       "</style>\n",
       "<table border=\"1\" class=\"dataframe\">\n",
       "  <thead>\n",
       "    <tr style=\"text-align: right;\">\n",
       "      <th></th>\n",
       "      <th>manufacturer</th>\n",
       "      <th>model</th>\n",
       "      <th>displ</th>\n",
       "      <th>year</th>\n",
       "      <th>cyl</th>\n",
       "      <th>trans</th>\n",
       "      <th>drv</th>\n",
       "      <th>cty</th>\n",
       "      <th>hwy</th>\n",
       "      <th>fl</th>\n",
       "      <th>class</th>\n",
       "      <th>avg_mpg</th>\n",
       "    </tr>\n",
       "  </thead>\n",
       "  <tbody>\n",
       "    <tr>\n",
       "      <th>1</th>\n",
       "      <td>audi</td>\n",
       "      <td>a4</td>\n",
       "      <td>1.8</td>\n",
       "      <td>1999</td>\n",
       "      <td>4</td>\n",
       "      <td>auto(l5)</td>\n",
       "      <td>f</td>\n",
       "      <td>18</td>\n",
       "      <td>29</td>\n",
       "      <td>p</td>\n",
       "      <td>compact</td>\n",
       "      <td>23.5</td>\n",
       "    </tr>\n",
       "    <tr>\n",
       "      <th>2</th>\n",
       "      <td>audi</td>\n",
       "      <td>a4</td>\n",
       "      <td>1.8</td>\n",
       "      <td>1999</td>\n",
       "      <td>4</td>\n",
       "      <td>manual(m5)</td>\n",
       "      <td>f</td>\n",
       "      <td>21</td>\n",
       "      <td>29</td>\n",
       "      <td>p</td>\n",
       "      <td>compact</td>\n",
       "      <td>25.0</td>\n",
       "    </tr>\n",
       "    <tr>\n",
       "      <th>3</th>\n",
       "      <td>audi</td>\n",
       "      <td>a4</td>\n",
       "      <td>2.0</td>\n",
       "      <td>2008</td>\n",
       "      <td>4</td>\n",
       "      <td>manual(m6)</td>\n",
       "      <td>f</td>\n",
       "      <td>20</td>\n",
       "      <td>31</td>\n",
       "      <td>p</td>\n",
       "      <td>compact</td>\n",
       "      <td>25.5</td>\n",
       "    </tr>\n",
       "    <tr>\n",
       "      <th>4</th>\n",
       "      <td>audi</td>\n",
       "      <td>a4</td>\n",
       "      <td>2.0</td>\n",
       "      <td>2008</td>\n",
       "      <td>4</td>\n",
       "      <td>auto(av)</td>\n",
       "      <td>f</td>\n",
       "      <td>21</td>\n",
       "      <td>30</td>\n",
       "      <td>p</td>\n",
       "      <td>compact</td>\n",
       "      <td>25.5</td>\n",
       "    </tr>\n",
       "    <tr>\n",
       "      <th>5</th>\n",
       "      <td>audi</td>\n",
       "      <td>a4</td>\n",
       "      <td>2.8</td>\n",
       "      <td>1999</td>\n",
       "      <td>6</td>\n",
       "      <td>auto(l5)</td>\n",
       "      <td>f</td>\n",
       "      <td>16</td>\n",
       "      <td>26</td>\n",
       "      <td>p</td>\n",
       "      <td>compact</td>\n",
       "      <td>21.0</td>\n",
       "    </tr>\n",
       "  </tbody>\n",
       "</table>\n",
       "</div>"
      ],
      "text/plain": [
       "  manufacturer model  displ  year  cyl       trans drv  cty  hwy fl    class  \\\n",
       "1         audi    a4    1.8  1999    4    auto(l5)   f   18   29  p  compact   \n",
       "2         audi    a4    1.8  1999    4  manual(m5)   f   21   29  p  compact   \n",
       "3         audi    a4    2.0  2008    4  manual(m6)   f   20   31  p  compact   \n",
       "4         audi    a4    2.0  2008    4    auto(av)   f   21   30  p  compact   \n",
       "5         audi    a4    2.8  1999    6    auto(l5)   f   16   26  p  compact   \n",
       "\n",
       "   avg_mpg  \n",
       "1     23.5  \n",
       "2     25.0  \n",
       "3     25.5  \n",
       "4     25.5  \n",
       "5     21.0  "
      ]
     },
     "execution_count": 83,
     "metadata": {},
     "output_type": "execute_result"
    }
   ],
   "source": [
    "df.head()"
   ]
  },
  {
   "cell_type": "code",
   "execution_count": 87,
   "id": "11546c4f",
   "metadata": {},
   "outputs": [
    {
     "data": {
      "text/plain": [
       "3     25.5\n",
       "4     25.5\n",
       "7     22.5\n",
       "10    24.0\n",
       "11    23.0\n",
       "Name: avg_mpg, dtype: float64"
      ]
     },
     "execution_count": 87,
     "metadata": {},
     "output_type": "execute_result"
    }
   ],
   "source": [
    "mpg_2008 = df[df.year == 2008].avg_mpg\n",
    "\n",
    "mpg_2008.head()\n",
    "#creating a series that shows the average mpg for all cars made in 2008"
   ]
  },
  {
   "cell_type": "code",
   "execution_count": 86,
   "id": "81cb3c99",
   "metadata": {},
   "outputs": [
    {
     "data": {
      "text/plain": [
       "<AxesSubplot:>"
      ]
     },
     "execution_count": 86,
     "metadata": {},
     "output_type": "execute_result"
    },
    {
     "data": {
      "image/png": "[encoded data removed]",
      "text/plain": [
       "<Figure size 432x288 with 1 Axes>"
      ]
     },
     "metadata": {
      "needs_background": "light"
     },
     "output_type": "display_data"
    }
   ],
   "source": [
    "mpg_2008.hist()"
   ]
  },
  {
   "cell_type": "code",
   "execution_count": 88,
   "id": "36c680c6",
   "metadata": {},
   "outputs": [
    {
     "data": {
      "text/plain": [
       "1    23.5\n",
       "2    25.0\n",
       "5    21.0\n",
       "6    22.0\n",
       "8    22.0\n",
       "Name: avg_mpg, dtype: float64"
      ]
     },
     "execution_count": 88,
     "metadata": {},
     "output_type": "execute_result"
    }
   ],
   "source": [
    "mpg_1999 = df[df.year == 1999].avg_mpg\n",
    "\n",
    "mpg_1999.head()\n",
    "#creating a series that shows the average mpg for all cars made in 1999."
   ]
  },
  {
   "cell_type": "code",
   "execution_count": 89,
   "id": "50e7bbb6",
   "metadata": {},
   "outputs": [
    {
     "data": {
      "text/plain": [
       "<AxesSubplot:>"
      ]
     },
     "execution_count": 89,
     "metadata": {},
     "output_type": "execute_result"
    },
    {
     "data": {
      "image/png": "[encoded data removed]",
      "text/plain": [
       "<Figure size 432x288 with 1 Axes>"
      ]
     },
     "metadata": {
      "needs_background": "light"
     },
     "output_type": "display_data"
    }
   ],
   "source": [
    "mpg_1999.hist()"
   ]
  },
  {
   "cell_type": "code",
   "execution_count": 90,
   "id": "600b21de",
   "metadata": {},
   "outputs": [],
   "source": [
    "#both plots have a normal-ish shape.  \n",
    "#now, set alpha to .05\n",
    "\n",
    "alpha = .05"
   ]
  },
  {
   "cell_type": "markdown",
   "id": "59ca9853",
   "metadata": {},
   "source": [
    "###### Null Hypothesis | $H_{0}$: The mean mpg_2008 is equal to the mean mpg_1999.\n",
    "\n",
    "###### Alternative Hyphothesis | $H_{a}$: The mean mpg_2008 is NOT equal to the mean mpg_1999."
   ]
  },
  {
   "cell_type": "code",
   "execution_count": 91,
   "id": "d9e0e191",
   "metadata": {},
   "outputs": [
    {
     "name": "stdout",
     "output_type": "stream",
     "text": [
      "24.097480106100797\n",
      "27.122605363984682\n"
     ]
    }
   ],
   "source": [
    "#now i want to check the variances\n",
    "\n",
    "print(mpg_2008.var())\n",
    "print(mpg_1999.var())"
   ]
  },
  {
   "cell_type": "code",
   "execution_count": 94,
   "id": "6575a092",
   "metadata": {},
   "outputs": [
    {
     "data": {
      "text/plain": [
       "(-0.21960177245940962, 0.8263750772060638)"
      ]
     },
     "execution_count": 94,
     "metadata": {},
     "output_type": "execute_result"
    }
   ],
   "source": [
    "#they are slightly different, so i will set equal_var = False\n",
    "#there are two independent variables, and we are checking for a difference\n",
    "\n",
    "t, p = stats.ttest_ind(mpg_2008, mpg_1999, equal_var = False)\n",
    "t, p"
   ]
  },
  {
   "cell_type": "code",
   "execution_count": 95,
   "id": "d76b0786",
   "metadata": {},
   "outputs": [
    {
     "name": "stdout",
     "output_type": "stream",
     "text": [
      "Reject $H_{0}$?  False\n"
     ]
    }
   ],
   "source": [
    "print(\"Reject $H_{0}$? \", p < alpha)"
   ]
  },
  {
   "cell_type": "code",
   "execution_count": null,
   "id": "4a5c8d30",
   "metadata": {},
   "outputs": [],
   "source": []
  }
 ],
 "metadata": {
  "kernelspec": {
   "display_name": "Python 3",
   "language": "python",
   "name": "python3"
  },
  "language_info": {
   "codemirror_mode": {
    "name": "ipython",
    "version": 3
   },
   "file_extension": ".py",
   "mimetype": "text/x-python",
   "name": "python",
   "nbconvert_exporter": "python",
   "pygments_lexer": "ipython3",
   "version": "3.8.8"
  }
 },
 "nbformat": 4,
 "nbformat_minor": 5
}
