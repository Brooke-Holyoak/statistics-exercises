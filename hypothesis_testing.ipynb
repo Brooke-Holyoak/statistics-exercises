{
 "cells": [
  {
   "cell_type": "markdown",
   "id": "1dd2611f",
   "metadata": {},
   "source": [
    "#### Exercises\n",
    "Do your work for this exercise in a jupyter notebook named hypothesis_testing.ipynb.\n",
    "\n",
    "For each of the following questions, formulate a null and alternative hypothesis (be as specific as you can be), then give an example of what a true positive, true negative, type I and type II errors would look like. Note that some of the questions are intentionally phrased in a vague way. It is your job to reword these as more precise questions that could be tested.\n",
    "\n",
    "1. Has the network latency gone up since we switched internet service providers?\n",
    "2. Is the website redesign any good?\n",
    "3. Is our television ad driving more sales?"
   ]
  },
  {
   "cell_type": "markdown",
   "id": "4e6ff191",
   "metadata": {},
   "source": [
    "###### 1. Has the network latency gone up since we switched internet service providers?\n",
    "         Rewording:  Is the current network latency greater than the previous network latency?\n",
    "\n",
    "     -Null Hypothesis:  The current isp latency is <= to the previous isp latency.\n",
    "     -Alternative Hypothesis:  The current isp latency is > than the previous isp latency.\n",
    "    \n",
    "     -True positive: the current isp latency is <= the previous isp latency, with a p < .05.\n",
    "     -True negative: the current isp latency is <= the previous isp latency with a p > .05.\n",
    "     -Type I error: We reject the null hypothesis as false, because the p value is < .05, but in reality, there is no difference or increase in latency. \n",
    "     -Type II error:  We accept the null hypothesis as true because the p value is > than .05, but in reality, the null hypothesis is true."
   ]
  },
  {
   "cell_type": "markdown",
   "id": "60b0c79c",
   "metadata": {},
   "source": [
    "###### 2. Is the website redesign any good?\n",
    "         Rewording: Has the daily_conversion_rate increased since the website redesign? \n",
    "\n",
    "     -Null Hypothesis: daily_conversion_rate after_redesign is <= the daily_conversion_rate pre_redesign\n",
    "     -Alternative Hypothesis:  daily_conversion_rate after_redesign is > the daily_conversion_rate pre_redesign\n",
    "    \n",
    "     -True positive: The daily_conversion_rate after_redesign is <= the daily_conversion_rate pre_redesign, with a p < .05.\n",
    "     -True negative: The daily_conversion_rate after_redesign is <= the daily_conversion_rate pre_redesign with a p > .05.\n",
    "     -Type I error: We reject the null hypothesis as false, because the p value is < .05, but in reality, there is no difference or increase in the daily_conversion_rate. \n",
    "     -Type II error:  We accept the null hypothesis as true because the p value is > than .05, but in reality, the null hypothesis is true."
   ]
  },
  {
   "cell_type": "markdown",
   "id": "230a3e97",
   "metadata": {},
   "source": [
    "###### 3. Is our television ad driving more sales?\n",
    "         Rewording:  ?????\n",
    "\n",
    "     -Null Hypothesis:  \n",
    "     -Alternative Hypothesis:  \n",
    "    \n",
    "     -True positive: , with a p < .05.\n",
    "     -True negative:  with a p > .05.\n",
    "     -Type I error: We reject the null hypothesis as false, because the p value is < .05, but in reality, there is no difference . \n",
    "     -Type II error:  We accept the null hypothesis as true because the p value is > than .05, but in reality, the null hypothesis is true."
   ]
  },
  {
   "cell_type": "code",
   "execution_count": null,
   "id": "d3d7ae40",
   "metadata": {},
   "outputs": [],
   "source": []
  }
 ],
 "metadata": {
  "kernelspec": {
   "display_name": "Python 3",
   "language": "python",
   "name": "python3"
  },
  "language_info": {
   "codemirror_mode": {
    "name": "ipython",
    "version": 3
   },
   "file_extension": ".py",
   "mimetype": "text/x-python",
   "name": "python",
   "nbconvert_exporter": "python",
   "pygments_lexer": "ipython3",
   "version": "3.8.8"
  }
 },
 "nbformat": 4,
 "nbformat_minor": 5
}
