{
 "cells": [
  {
   "cell_type": "markdown",
   "id": "ce3e1f31",
   "metadata": {},
   "source": [
    "#### Exercises\n",
    "Do your work for this exercise in a jupyter notebook named hypothesis_testing.ipynb.\n",
    "\n",
    "For each of the following questions, formulate a null and alternative hypothesis (be as specific as you can be), then give an example of what a true positive, true negative, type I and type II errors would look like. Note that some of the questions are intentionally phrased in a vague way. It is your job to reword these as more precise questions that could be tested.\n",
    "\n",
    "1. Has the network latency gone up since we switched internet service providers?\n",
    "2. Is the website redesign any good?\n",
    "3. Is our television ad driving more sales?"
   ]
  },
  {
   "cell_type": "markdown",
   "id": "046c2d3d",
   "metadata": {},
   "source": [
    "###### 1. Has the network latency gone up since we switched internet service providers?\n",
    "         Rewording:  Is the current network latency greater than the previous network latency?\n",
    "\n",
    "     -Null Hypothesis:  The current isp latency is <= to the previous isp latency.\n",
    "     -Alternative Hypothesis:  The current isp latency is > than the previous isp latency.\n",
    "    \n",
    "     -True positive: the current isp latency is <= the previous isp latency, with a p < .05.\n",
    "     -True negative: the current isp latency is <= the previous isp latency with a p > .05.\n",
    "     -Type I error: We reject the null hypothesis as false, because the p value is < .05, but in reality, there is no difference or increase in latency. \n",
    "     -Type II error:  We accept the null hypothesis as true because the p value is > than .05, but in reality, the null hypothesis is true."
   ]
  },
  {
   "cell_type": "markdown",
   "id": "dd11fe99",
   "metadata": {},
   "source": [
    "###### 2. Is the website redesign any good?\n",
    "         Rewording: Has the daily_conversion_rate increased since the website redesign? \n",
    "\n",
    "     -Null Hypothesis: daily_conversion_rate after_redesign is <= the daily_conversion_rate pre_redesign\n",
    "     -Alternative Hypothesis:  daily_conversion_rate after_redesign is > the daily_conversion_rate pre_redesign\n",
    "    \n",
    "     -True positive: The daily_conversion_rate after_redesign is <= the daily_conversion_rate pre_redesign, with a p < .05.\n",
    "     -True negative: The daily_conversion_rate after_redesign is <= the daily_conversion_rate pre_redesign with a p > .05.\n",
    "     -Type I error: We reject the null hypothesis as false, because the p value is < .05, but in reality, there is no difference or increase in the daily_conversion_rate. \n",
    "     -Type II error:  We accept the null hypothesis as true because the p value is > than .05, but in reality, the null hypothesis is true."
   ]
  },
  {
   "cell_type": "markdown",
   "id": "c0a1ff53",
   "metadata": {},
   "source": [
    "###### 3. Is our television ad driving more sales?\n",
    "         Rewording:  (If the tv ad has a specific discount code):  Are the amount of sales using the tv_code more than sales using other not_tv_codes?\n",
    "\n",
    "     -Null Hypothesis: The amount of sales using the tv_code <= than other not_tv_codes \n",
    "     -Alternative Hypothesis:  The amount of sales using the tv_code > than other not_tv_codes\n",
    "    \n",
    "     -True positive: The amount of sales with the tv_code is > sales with other not_tv_codes, with a p < .05.\n",
    "     -True negative: The amount of sales with the tv_code is <= sales with other not_tv_codes, with a p > .05.\n",
    "     -Type I error: We reject the null hypothesis as false, because the p value is < .05, but in reality, there is no difference in sales using the tv_code. \n",
    "     -Type II error:  We accept the null hypothesis as true because the p value is > than .05, but in reality, the null hypothesis is true."
   ]
  },
  {
   "cell_type": "code",
   "execution_count": null,
   "id": "4cb5cc60",
   "metadata": {},
   "outputs": [],
   "source": []
  }
 ],
 "metadata": {
  "kernelspec": {
   "display_name": "Python 3",
   "language": "python",
   "name": "python3"
  },
  "language_info": {
   "codemirror_mode": {
    "name": "ipython",
    "version": 3
   },
   "file_extension": ".py",
   "mimetype": "text/x-python",
   "name": "python",
   "nbconvert_exporter": "python",
   "pygments_lexer": "ipython3",
   "version": "3.8.8"
  }
 },
 "nbformat": 4,
 "nbformat_minor": 5
}
