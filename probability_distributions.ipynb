{
 "cells": [
  {
   "cell_type": "code",
   "execution_count": 74,
   "id": "42f4325a",
   "metadata": {},
   "outputs": [],
   "source": [
    "import matplotlib.pyplot as plt\n",
    "import numpy as np\n",
    "from scipy import stats\n",
    "import pandas as pd\n",
    "\n",
    "np.random.seed(123)"
   ]
  },
  {
   "cell_type": "code",
   "execution_count": 31,
   "id": "5598808d",
   "metadata": {},
   "outputs": [],
   "source": [
    "# import seaborn\n",
    "import seaborn as sns\n",
    "# settings for seaborn plotting style\n",
    "sns.set(color_codes=True)\n",
    "# settings for seaborn plot sizes\n",
    "sns.set(rc={'figure.figsize':(5,5)})"
   ]
  },
  {
   "cell_type": "code",
   "execution_count": 32,
   "id": "9328275a",
   "metadata": {},
   "outputs": [],
   "source": [
    "#from scipy.stats import poisson\n",
    "#drivethru_cars = poisson.rvs(mu=2, size=10000)"
   ]
  },
  {
   "cell_type": "code",
   "execution_count": 33,
   "id": "ac4160a5",
   "metadata": {},
   "outputs": [],
   "source": [
    "drivethru_cars = stats.poisson.rvs(mu=2, size=10000)"
   ]
  },
  {
   "cell_type": "code",
   "execution_count": 34,
   "id": "6eb88d6c",
   "metadata": {},
   "outputs": [
    {
     "data": {
      "text/plain": [
       "[Text(0.5, 0, 'Poisson Distribution'), Text(0, 0.5, 'Frequency')]"
      ]
     },
     "execution_count": 34,
     "metadata": {},
     "output_type": "execute_result"
    },
    {
     "data": {
      "image/png": "[encoded data removed]",
      "text/plain": [
       "<Figure size 360x360 with 1 Axes>"
      ]
     },
     "metadata": {},
     "output_type": "display_data"
    }
   ],
   "source": [
    "ax = sns.histplot(drivethru_cars,\n",
    "                  bins=30,\n",
    "                  kde=False,\n",
    "                  color='skyblue')\n",
    "ax.set(xlabel='Poisson Distribution', ylabel='Frequency')"
   ]
  },
  {
   "cell_type": "markdown",
   "id": "19af9b17",
   "metadata": {},
   "source": [
    "#### 1. A bank found that the average number of cars waiting during the noon hour at a drive-up window follows a Poisson distribution with a mean of 2 cars. Make a chart of this distribution and answer these questions concerning the probability of cars waiting at the drive-up window.\n",
    "\n",
    "#### What is the probability that no cars drive up in the noon hour?\n",
    "#### What is the probability that 3 or more cars come through the drive through?\n",
    "#### How likely is it that the drive through gets at least 1 car?"
   ]
  },
  {
   "cell_type": "code",
   "execution_count": 125,
   "id": "5087029f",
   "metadata": {},
   "outputs": [
    {
     "data": {
      "text/plain": [
       "array([1, 2, 0, ..., 3, 1, 2])"
      ]
     },
     "execution_count": 125,
     "metadata": {},
     "output_type": "execute_result"
    }
   ],
   "source": [
    "dthru_cars = poisson.rvs(mu=2, size=10000)\n",
    "dthru_cars"
   ]
  },
  {
   "cell_type": "code",
   "execution_count": 133,
   "id": "ae0da75e",
   "metadata": {},
   "outputs": [
    {
     "data": {
      "text/html": [
       "<div>\n",
       "<style scoped>\n",
       "    .dataframe tbody tr th:only-of-type {\n",
       "        vertical-align: middle;\n",
       "    }\n",
       "\n",
       "    .dataframe tbody tr th {\n",
       "        vertical-align: top;\n",
       "    }\n",
       "\n",
       "    .dataframe thead th {\n",
       "        text-align: right;\n",
       "    }\n",
       "</style>\n",
       "<table border=\"1\" class=\"dataframe\">\n",
       "  <thead>\n",
       "    <tr style=\"text-align: right;\">\n",
       "      <th></th>\n",
       "      <th>0</th>\n",
       "    </tr>\n",
       "  </thead>\n",
       "  <tbody>\n",
       "    <tr>\n",
       "      <th>0</th>\n",
       "      <td>1</td>\n",
       "    </tr>\n",
       "    <tr>\n",
       "      <th>1</th>\n",
       "      <td>2</td>\n",
       "    </tr>\n",
       "    <tr>\n",
       "      <th>2</th>\n",
       "      <td>0</td>\n",
       "    </tr>\n",
       "    <tr>\n",
       "      <th>3</th>\n",
       "      <td>4</td>\n",
       "    </tr>\n",
       "    <tr>\n",
       "      <th>4</th>\n",
       "      <td>4</td>\n",
       "    </tr>\n",
       "  </tbody>\n",
       "</table>\n",
       "</div>"
      ],
      "text/plain": [
       "   0\n",
       "0  1\n",
       "1  2\n",
       "2  0\n",
       "3  4\n",
       "4  4"
      ]
     },
     "execution_count": 133,
     "metadata": {},
     "output_type": "execute_result"
    }
   ],
   "source": [
    "#create a df of the array created\n",
    "\n",
    "df = pd.DataFrame(dthru_cars)\n",
    "df.head()"
   ]
  },
  {
   "cell_type": "code",
   "execution_count": 134,
   "id": "97505b88",
   "metadata": {},
   "outputs": [
    {
     "data": {
      "text/html": [
       "<div>\n",
       "<style scoped>\n",
       "    .dataframe tbody tr th:only-of-type {\n",
       "        vertical-align: middle;\n",
       "    }\n",
       "\n",
       "    .dataframe tbody tr th {\n",
       "        vertical-align: top;\n",
       "    }\n",
       "\n",
       "    .dataframe thead th {\n",
       "        text-align: right;\n",
       "    }\n",
       "</style>\n",
       "<table border=\"1\" class=\"dataframe\">\n",
       "  <thead>\n",
       "    <tr style=\"text-align: right;\">\n",
       "      <th></th>\n",
       "      <th>0</th>\n",
       "      <th>dthru_cars</th>\n",
       "    </tr>\n",
       "  </thead>\n",
       "  <tbody>\n",
       "    <tr>\n",
       "      <th>0</th>\n",
       "      <td>1</td>\n",
       "      <td>1</td>\n",
       "    </tr>\n",
       "    <tr>\n",
       "      <th>1</th>\n",
       "      <td>2</td>\n",
       "      <td>2</td>\n",
       "    </tr>\n",
       "    <tr>\n",
       "      <th>2</th>\n",
       "      <td>0</td>\n",
       "      <td>0</td>\n",
       "    </tr>\n",
       "    <tr>\n",
       "      <th>3</th>\n",
       "      <td>4</td>\n",
       "      <td>4</td>\n",
       "    </tr>\n",
       "    <tr>\n",
       "      <th>4</th>\n",
       "      <td>4</td>\n",
       "      <td>4</td>\n",
       "    </tr>\n",
       "  </tbody>\n",
       "</table>\n",
       "</div>"
      ],
      "text/plain": [
       "   0  dthru_cars\n",
       "0  1           1\n",
       "1  2           2\n",
       "2  0           0\n",
       "3  4           4\n",
       "4  4           4"
      ]
     },
     "execution_count": 134,
     "metadata": {},
     "output_type": "execute_result"
    }
   ],
   "source": [
    "#add a column called dthru_cars\n",
    "df['dthru_cars'] = df.sum(axis = 1)\n",
    "df.head()"
   ]
  },
  {
   "cell_type": "code",
   "execution_count": 131,
   "id": "ec490d88",
   "metadata": {},
   "outputs": [
    {
     "data": {
      "text/plain": [
       "0.1317"
      ]
     },
     "execution_count": 131,
     "metadata": {},
     "output_type": "execute_result"
    }
   ],
   "source": [
    "(df.dthru_cars == 0).mean()"
   ]
  },
  {
   "cell_type": "code",
   "execution_count": 132,
   "id": "f37b4c4e",
   "metadata": {},
   "outputs": [
    {
     "data": {
      "text/plain": [
       "0.3286"
      ]
     },
     "execution_count": 132,
     "metadata": {},
     "output_type": "execute_result"
    }
   ],
   "source": [
    "(df.dthru_cars >= 3).mean()"
   ]
  },
  {
   "cell_type": "code",
   "execution_count": 24,
   "id": "2ff87e05",
   "metadata": {},
   "outputs": [
    {
     "data": {
      "text/plain": [
       "0.1353352832366127"
      ]
     },
     "execution_count": 24,
     "metadata": {},
     "output_type": "execute_result"
    }
   ],
   "source": [
    "#mean is 3 and target is 0. (avg cars is 3 and we want to know prob of zero cars)\n",
    "stats.poisson(2).pmf(0)"
   ]
  },
  {
   "cell_type": "code",
   "execution_count": 161,
   "id": "30307176",
   "metadata": {},
   "outputs": [
    {
     "data": {
      "text/plain": [
       "0.32332358381693654"
      ]
     },
     "execution_count": 161,
     "metadata": {},
     "output_type": "execute_result"
    }
   ],
   "source": [
    "stats.poisson(2).sf(2)  #use sf to get the area that is greater than 2. We want what's 3 or more."
   ]
  },
  {
   "cell_type": "code",
   "execution_count": 162,
   "id": "f534e781",
   "metadata": {},
   "outputs": [
    {
     "data": {
      "text/plain": [
       "0.8646647167633873"
      ]
     },
     "execution_count": 162,
     "metadata": {},
     "output_type": "execute_result"
    }
   ],
   "source": [
    "#stats.poisson(2).pmf(1)\n",
    "stats.poisson(2).sf(0)"
   ]
  },
  {
   "cell_type": "markdown",
   "id": "6ac322af",
   "metadata": {},
   "source": [
    "#### 2. Grades of State University graduates are normally distributed with a mean of 3.0 and a standard deviation of .3. Calculate the following:\n",
    "\n",
    "#### What grade point average is required to be in the top 5% of the graduating class?\n",
    "#### What GPA constitutes the bottom 15% of the class?\n",
    "#### An eccentric alumnus left scholarship money for students in the third decile from the bottom of their class. Determine the range of the third decile. Would a student with a 2.8 grade point average qualify for this scholarship?\n",
    "#### If I have a GPA of 3.5, what percentile am I in?"
   ]
  },
  {
   "cell_type": "code",
   "execution_count": 165,
   "id": "81f7ca26",
   "metadata": {},
   "outputs": [],
   "source": [
    "#simulation:\n",
    "grades = np.random.normal(loc = 3.0, scale = .3, size = 10_000).round(1)"
   ]
  },
  {
   "cell_type": "code",
   "execution_count": 166,
   "id": "c9dfe12d",
   "metadata": {},
   "outputs": [
    {
     "data": {
      "text/plain": [
       "array([3. , 3.1, 3.1, ..., 2.9, 2.9, 2.8])"
      ]
     },
     "execution_count": 166,
     "metadata": {},
     "output_type": "execute_result"
    }
   ],
   "source": [
    "#simulation array.\n",
    "grades"
   ]
  },
  {
   "cell_type": "code",
   "execution_count": 167,
   "id": "cc201a98",
   "metadata": {},
   "outputs": [
    {
     "data": {
      "text/html": [
       "<div>\n",
       "<style scoped>\n",
       "    .dataframe tbody tr th:only-of-type {\n",
       "        vertical-align: middle;\n",
       "    }\n",
       "\n",
       "    .dataframe tbody tr th {\n",
       "        vertical-align: top;\n",
       "    }\n",
       "\n",
       "    .dataframe thead th {\n",
       "        text-align: right;\n",
       "    }\n",
       "</style>\n",
       "<table border=\"1\" class=\"dataframe\">\n",
       "  <thead>\n",
       "    <tr style=\"text-align: right;\">\n",
       "      <th></th>\n",
       "      <th>0</th>\n",
       "    </tr>\n",
       "  </thead>\n",
       "  <tbody>\n",
       "    <tr>\n",
       "      <th>0</th>\n",
       "      <td>3.0</td>\n",
       "    </tr>\n",
       "    <tr>\n",
       "      <th>1</th>\n",
       "      <td>3.1</td>\n",
       "    </tr>\n",
       "    <tr>\n",
       "      <th>2</th>\n",
       "      <td>3.1</td>\n",
       "    </tr>\n",
       "    <tr>\n",
       "      <th>3</th>\n",
       "      <td>3.3</td>\n",
       "    </tr>\n",
       "    <tr>\n",
       "      <th>4</th>\n",
       "      <td>2.9</td>\n",
       "    </tr>\n",
       "  </tbody>\n",
       "</table>\n",
       "</div>"
      ],
      "text/plain": [
       "     0\n",
       "0  3.0\n",
       "1  3.1\n",
       "2  3.1\n",
       "3  3.3\n",
       "4  2.9"
      ]
     },
     "execution_count": 167,
     "metadata": {},
     "output_type": "execute_result"
    }
   ],
   "source": [
    "#now create a df\n",
    "df = pd.DataFrame(grades)\n",
    "df.head()"
   ]
  },
  {
   "cell_type": "code",
   "execution_count": 168,
   "id": "9cc75292",
   "metadata": {},
   "outputs": [
    {
     "data": {
      "text/html": [
       "<div>\n",
       "<style scoped>\n",
       "    .dataframe tbody tr th:only-of-type {\n",
       "        vertical-align: middle;\n",
       "    }\n",
       "\n",
       "    .dataframe tbody tr th {\n",
       "        vertical-align: top;\n",
       "    }\n",
       "\n",
       "    .dataframe thead th {\n",
       "        text-align: right;\n",
       "    }\n",
       "</style>\n",
       "<table border=\"1\" class=\"dataframe\">\n",
       "  <thead>\n",
       "    <tr style=\"text-align: right;\">\n",
       "      <th></th>\n",
       "      <th>0</th>\n",
       "      <th>grades</th>\n",
       "    </tr>\n",
       "  </thead>\n",
       "  <tbody>\n",
       "    <tr>\n",
       "      <th>0</th>\n",
       "      <td>3.0</td>\n",
       "      <td>3.0</td>\n",
       "    </tr>\n",
       "    <tr>\n",
       "      <th>1</th>\n",
       "      <td>3.1</td>\n",
       "      <td>3.1</td>\n",
       "    </tr>\n",
       "    <tr>\n",
       "      <th>2</th>\n",
       "      <td>3.1</td>\n",
       "      <td>3.1</td>\n",
       "    </tr>\n",
       "    <tr>\n",
       "      <th>3</th>\n",
       "      <td>3.3</td>\n",
       "      <td>3.3</td>\n",
       "    </tr>\n",
       "    <tr>\n",
       "      <th>4</th>\n",
       "      <td>2.9</td>\n",
       "      <td>2.9</td>\n",
       "    </tr>\n",
       "  </tbody>\n",
       "</table>\n",
       "</div>"
      ],
      "text/plain": [
       "     0  grades\n",
       "0  3.0     3.0\n",
       "1  3.1     3.1\n",
       "2  3.1     3.1\n",
       "3  3.3     3.3\n",
       "4  2.9     2.9"
      ]
     },
     "execution_count": 168,
     "metadata": {},
     "output_type": "execute_result"
    }
   ],
   "source": [
    "#now add a column to the df so you can call it(?)\n",
    "df['grades'] = df.sum(axis = 1)\n",
    "df.head()"
   ]
  },
  {
   "cell_type": "code",
   "execution_count": 169,
   "id": "33fedb0e",
   "metadata": {},
   "outputs": [
    {
     "ename": "AttributeError",
     "evalue": "'numpy.float64' object has no attribute 'values'",
     "output_type": "error",
     "traceback": [
      "\u001b[0;31m---------------------------------------------------------------------------\u001b[0m",
      "\u001b[0;31mAttributeError\u001b[0m                            Traceback (most recent call last)",
      "\u001b[0;32m<ipython-input-169-200d171d1997>\u001b[0m in \u001b[0;36m<module>\u001b[0;34m\u001b[0m\n\u001b[0;32m----> 1\u001b[0;31m \u001b[0mdf\u001b[0m\u001b[0;34m.\u001b[0m\u001b[0mgrades\u001b[0m\u001b[0;34m.\u001b[0m\u001b[0mquantile\u001b[0m\u001b[0;34m(\u001b[0m\u001b[0;36m.95\u001b[0m\u001b[0;34m)\u001b[0m\u001b[0;34m.\u001b[0m\u001b[0mvalues\u001b[0m\u001b[0;34m\u001b[0m\u001b[0;34m\u001b[0m\u001b[0m\n\u001b[0m",
      "\u001b[0;31mAttributeError\u001b[0m: 'numpy.float64' object has no attribute 'values'"
     ]
    }
   ],
   "source": [
    "df.grades.quantile(.95).values"
   ]
  },
  {
   "cell_type": "code",
   "execution_count": 39,
   "id": "dcda7431",
   "metadata": {},
   "outputs": [],
   "source": [
    "grade_distribution = stats.norm(3.0, .3)"
   ]
  },
  {
   "cell_type": "code",
   "execution_count": 42,
   "id": "a7564a55",
   "metadata": {},
   "outputs": [],
   "source": [
    "top_5_percent = grade_distribution.ppf(.95)"
   ]
  },
  {
   "cell_type": "code",
   "execution_count": 43,
   "id": "590bf72e",
   "metadata": {},
   "outputs": [
    {
     "data": {
      "text/plain": [
       "3.4934560880854417"
      ]
     },
     "execution_count": 43,
     "metadata": {},
     "output_type": "execute_result"
    }
   ],
   "source": [
    "top_5_percent"
   ]
  },
  {
   "cell_type": "code",
   "execution_count": 44,
   "id": "6a63716d",
   "metadata": {},
   "outputs": [],
   "source": [
    "bottom_15_percent = grade_distribution.ppf(.15)"
   ]
  },
  {
   "cell_type": "code",
   "execution_count": 46,
   "id": "d6e8d8e7",
   "metadata": {},
   "outputs": [
    {
     "data": {
      "text/plain": [
       "2.689069983151863"
      ]
     },
     "execution_count": 46,
     "metadata": {},
     "output_type": "execute_result"
    }
   ],
   "source": [
    "bottom_15_percent"
   ]
  },
  {
   "cell_type": "code",
   "execution_count": 52,
   "id": "92210571",
   "metadata": {},
   "outputs": [
    {
     "data": {
      "text/plain": [
       "0.2524925375469227"
      ]
     },
     "execution_count": 52,
     "metadata": {},
     "output_type": "execute_result"
    }
   ],
   "source": [
    "grade_distribution.cdf(2.8)\n",
    "\n",
    "#the 3rd decile is .20-.30 of the class."
   ]
  },
  {
   "cell_type": "code",
   "execution_count": 54,
   "id": "b991c3dc",
   "metadata": {},
   "outputs": [
    {
     "data": {
      "text/plain": [
       "2.7475136299281258"
      ]
     },
     "execution_count": 54,
     "metadata": {},
     "output_type": "execute_result"
    }
   ],
   "source": [
    "grade_distribution.ppf(.20)"
   ]
  },
  {
   "cell_type": "code",
   "execution_count": 55,
   "id": "3f3af872",
   "metadata": {},
   "outputs": [
    {
     "data": {
      "text/plain": [
       "2.842679846187588"
      ]
     },
     "execution_count": 55,
     "metadata": {},
     "output_type": "execute_result"
    }
   ],
   "source": [
    "grade_distribution.ppf(.30)"
   ]
  },
  {
   "cell_type": "code",
   "execution_count": 56,
   "id": "781818a2",
   "metadata": {},
   "outputs": [
    {
     "data": {
      "text/plain": [
       "0.9522096477271853"
      ]
     },
     "execution_count": 56,
     "metadata": {},
     "output_type": "execute_result"
    }
   ],
   "source": [
    "grade_distribution.cdf(3.5)"
   ]
  },
  {
   "cell_type": "code",
   "execution_count": null,
   "id": "4c022281",
   "metadata": {},
   "outputs": [],
   "source": [
    "#A GPA of 3.5 is in the top 5%"
   ]
  },
  {
   "cell_type": "code",
   "execution_count": 57,
   "id": "50c71b2b",
   "metadata": {},
   "outputs": [
    {
     "data": {
      "text/plain": [
       "0.0477903522728147"
      ]
     },
     "execution_count": 57,
     "metadata": {},
     "output_type": "execute_result"
    }
   ],
   "source": [
    "grade_distribution.sf(3.5)"
   ]
  },
  {
   "cell_type": "markdown",
   "id": "42fdba9d",
   "metadata": {},
   "source": [
    "#### 3. A marketing website has an average click-through rate of 2%. One day they observe 4326 visitors and 97 click-throughs. How likely is it that this many people or more click through?"
   ]
  },
  {
   "cell_type": "code",
   "execution_count": 171,
   "id": "bb657081",
   "metadata": {},
   "outputs": [],
   "source": [
    "clicks = stats.binom(4326, .02)"
   ]
  },
  {
   "cell_type": "code",
   "execution_count": 172,
   "id": "9bc0270d",
   "metadata": {},
   "outputs": [
    {
     "data": {
      "text/plain": [
       "<scipy.stats._distn_infrastructure.rv_frozen at 0x7f930ea17e20>"
      ]
     },
     "execution_count": 172,
     "metadata": {},
     "output_type": "execute_result"
    }
   ],
   "source": [
    "clicks"
   ]
  },
  {
   "cell_type": "code",
   "execution_count": 173,
   "id": "547d8415",
   "metadata": {},
   "outputs": [
    {
     "data": {
      "text/plain": [
       "0.1397582363130086"
      ]
     },
     "execution_count": 173,
     "metadata": {},
     "output_type": "execute_result"
    }
   ],
   "source": [
    "clicks.sf(96) #this is 96 because we want everything that is 97 and above.  \n",
    "              #using 97 would give us the prob of above 97 only."
   ]
  },
  {
   "cell_type": "code",
   "execution_count": 144,
   "id": "bfaaebb8",
   "metadata": {},
   "outputs": [
    {
     "data": {
      "text/plain": [
       "array([[0, 0, 0, ..., 0, 0, 0],\n",
       "       [0, 0, 0, ..., 0, 0, 0],\n",
       "       [0, 0, 0, ..., 0, 0, 0],\n",
       "       ...,\n",
       "       [0, 0, 0, ..., 0, 0, 0],\n",
       "       [0, 1, 0, ..., 0, 0, 0],\n",
       "       [0, 0, 0, ..., 0, 0, 0]])"
      ]
     },
     "execution_count": 144,
     "metadata": {},
     "output_type": "execute_result"
    }
   ],
   "source": [
    "#using simulation\n",
    "outcomes = [0,1]\n",
    "#0 is no click, 1 is a click\n",
    "trials = 4326\n",
    "clicks = np.random.choice(outcomes, (10_000, trials), p = [0.98, 0.02])\n",
    "clicks"
   ]
  },
  {
   "cell_type": "code",
   "execution_count": 148,
   "id": "b163ffd2",
   "metadata": {},
   "outputs": [],
   "source": [
    "df = pd.DataFrame(clicks)\n",
    "df['clicks'] = df.sum(axis=1)"
   ]
  },
  {
   "cell_type": "code",
   "execution_count": 149,
   "id": "c771dc59",
   "metadata": {},
   "outputs": [
    {
     "data": {
      "text/plain": [
       "0.136"
      ]
     },
     "execution_count": 149,
     "metadata": {},
     "output_type": "execute_result"
    }
   ],
   "source": [
    "(df.clicks >= 97).mean()"
   ]
  },
  {
   "cell_type": "markdown",
   "id": "c3a3e229",
   "metadata": {},
   "source": [
    "#### 4. You are working on some statistics homework consisting of 100 questions where all of the answers are a probability rounded to the hundreths place. Looking to save time, you put down random probabilities as the answer to each question.\n",
    "\n",
    "#### What is the probability that at least one of your first 60 answers is correct?"
   ]
  },
  {
   "cell_type": "code",
   "execution_count": null,
   "id": "a199781d",
   "metadata": {},
   "outputs": [],
   "source": [
    "# 1/101 chance; binomial distribution.  60, 1/101"
   ]
  },
  {
   "cell_type": "code",
   "execution_count": 36,
   "id": "4e0ab977",
   "metadata": {},
   "outputs": [
    {
     "data": {
      "text/plain": [
       "<scipy.stats._distn_infrastructure.rv_frozen at 0x7f9324cf97f0>"
      ]
     },
     "execution_count": 36,
     "metadata": {},
     "output_type": "execute_result"
    }
   ],
   "source": [
    "stats.binom(60, 1/101)"
   ]
  },
  {
   "cell_type": "code",
   "execution_count": 38,
   "id": "f9464bc5",
   "metadata": {},
   "outputs": [
    {
     "data": {
      "text/plain": [
       "0.44955038406224"
      ]
     },
     "execution_count": 38,
     "metadata": {},
     "output_type": "execute_result"
    }
   ],
   "source": [
    "stats.binom(60, 1/101).sf(0)"
   ]
  },
  {
   "cell_type": "code",
   "execution_count": 175,
   "id": "16056cf5",
   "metadata": {},
   "outputs": [
    {
     "data": {
      "text/plain": [
       "array([[1, 1, 1, ..., 1, 0, 1],\n",
       "       [1, 0, 0, ..., 1, 0, 1],\n",
       "       [0, 1, 1, ..., 0, 0, 1],\n",
       "       ...,\n",
       "       [1, 1, 0, ..., 1, 0, 0],\n",
       "       [1, 1, 1, ..., 1, 0, 0],\n",
       "       [1, 0, 1, ..., 1, 0, 1]])"
      ]
     },
     "execution_count": 175,
     "metadata": {},
     "output_type": "execute_result"
    }
   ],
   "source": [
    "outcomes = [0,1]\n",
    "#0 is incorrect, 1 is correct\n",
    "trials = 100\n",
    "hw_problems = np.random.choice(outcomes, (10_000, trials))\n",
    "hw_problems"
   ]
  },
  {
   "cell_type": "code",
   "execution_count": 176,
   "id": "9ab6e96c",
   "metadata": {},
   "outputs": [],
   "source": [
    "df = pd.DataFrame(hw_problems)\n",
    "df['hw_problems'] = df.sum(axis=1)\n"
   ]
  },
  {
   "cell_type": "code",
   "execution_count": 184,
   "id": "9db98df0",
   "metadata": {},
   "outputs": [
    {
     "name": "stderr",
     "output_type": "stream",
     "text": [
      "<ipython-input-184-7ef7444ad0b8>:3: SettingWithCopyWarning: \n",
      "A value is trying to be set on a copy of a slice from a DataFrame.\n",
      "Try using .loc[row_indexer,col_indexer] = value instead\n",
      "\n",
      "See the caveats in the documentation: https://pandas.pydata.org/pandas-docs/stable/user_guide/indexing.html#returning-a-view-versus-a-copy\n",
      "  first_60_problems['first_60'] = first_60_problems.sum(axis=1)\n"
     ]
    },
    {
     "data": {
      "text/plain": [
       "1.0"
      ]
     },
     "execution_count": 184,
     "metadata": {},
     "output_type": "execute_result"
    }
   ],
   "source": [
    "first_60_problems = df.loc[:, 0:59]\n",
    "\n",
    "first_60_problems['first_60'] = first_60_problems.sum(axis=1)\n",
    "(first_60_problems.first_60 > 0).mean()\n",
    "\n",
    "\n",
    "\n"
   ]
  },
  {
   "cell_type": "markdown",
   "id": "556b712d",
   "metadata": {},
   "source": [
    "#### 5. The codeup staff tends to get upset when the student break area is not cleaned up. \n",
    "#### Suppose that there's a 3% chance that any one student cleans the break area when they visit it, and, on any given day, about 90% of the 3 active cohorts of 22 students visit the break area. \n",
    "#### How likely is it that the break area gets cleaned up each day? \n",
    "#### How likely is it that it goes two days without getting cleaned up? All week?"
   ]
  },
  {
   "cell_type": "code",
   "execution_count": 47,
   "id": "2fcd7664",
   "metadata": {},
   "outputs": [
    {
     "data": {
      "text/plain": [
       "<scipy.stats._distn_infrastructure.rv_frozen at 0x7f93250bca90>"
      ]
     },
     "execution_count": 47,
     "metadata": {},
     "output_type": "execute_result"
    }
   ],
   "source": [
    "stats.binom(2, .83)  #.83 is the probability the area gets cleaned each day.  \n",
    "                     # Figure this out by (3 * 22) * .9"
   ]
  },
  {
   "cell_type": "code",
   "execution_count": 48,
   "id": "15c2bf8b",
   "metadata": {},
   "outputs": [
    {
     "data": {
      "text/plain": [
       "0.02890000000000002"
      ]
     },
     "execution_count": 48,
     "metadata": {},
     "output_type": "execute_result"
    }
   ],
   "source": [
    "stats.binom(2, .83).pmf(0)"
   ]
  },
  {
   "cell_type": "markdown",
   "id": "0af33aa3",
   "metadata": {},
   "source": [
    "#### 6. You want to get lunch at La Panaderia, but notice that the line is usually very long at lunchtime. After several weeks of careful observation, you notice that the average number of people in line when your lunch break starts is normally distributed with a mean of 15 and standard deviation of 3. If it takes 2 minutes for each person to order, and 10 minutes from ordering to getting your food, what is the likelihood that you have at least 15 minutes left to eat your food before you have to go back to class? Assume you have one hour for lunch, and ignore travel time to and from La Panaderia."
   ]
  },
  {
   "cell_type": "code",
   "execution_count": 64,
   "id": "aa7c474f",
   "metadata": {},
   "outputs": [],
   "source": [
    "pan_line_people = stats.norm(15, 3)"
   ]
  },
  {
   "cell_type": "code",
   "execution_count": 65,
   "id": "2257c51d",
   "metadata": {},
   "outputs": [
    {
     "data": {
      "text/plain": [
       "<scipy.stats._distn_infrastructure.rv_frozen at 0x7f9324f83cd0>"
      ]
     },
     "execution_count": 65,
     "metadata": {},
     "output_type": "execute_result"
    }
   ],
   "source": [
    "pan_line_people"
   ]
  },
  {
   "cell_type": "code",
   "execution_count": 69,
   "id": "361a8b2f",
   "metadata": {},
   "outputs": [
    {
     "data": {
      "text/plain": [
       "0.7475074624530771"
      ]
     },
     "execution_count": 69,
     "metadata": {},
     "output_type": "execute_result"
    }
   ],
   "source": [
    "pan_line_people.cdf(17)"
   ]
  },
  {
   "cell_type": "code",
   "execution_count": 70,
   "id": "1cea45f5",
   "metadata": {},
   "outputs": [],
   "source": [
    "#17 people is the max number of people that can be in line in the timeframe I have.  \n",
    "#If each person takes 2 minutes, and then I have to wait an additional 10, \n",
    "#15 people take 30 minutes, 16 people take 32, 17 people take 34 minutes.  34 + 10 = 44 min \n",
    "#44 min is within our timeframe.  I'll still have 16 minutes."
   ]
  },
  {
   "cell_type": "markdown",
   "id": "f38364cb",
   "metadata": {},
   "source": [
    "#### 7. Connect to the employees database and find the average salary of current employees, along with the standard deviation. For the following questions, calculate the answer based on modeling the employees salaries with a normal distribution defined by the calculated mean and standard deviation then compare this answer to the actual values present in the salaries dataset.\n",
    "\n",
    "#### What percent of employees earn less than 60,000?\n",
    "#### What percent of employees earn more than 95,000?\n",
    "#### What percent of employees earn between 65,000 and 80,000?\n",
    "#### What do the top 5% of employees make?"
   ]
  },
  {
   "cell_type": "code",
   "execution_count": 72,
   "id": "3f5bbc1f",
   "metadata": {},
   "outputs": [],
   "source": [
    "from env import host, user, password\n",
    "\n",
    "url = f'mysql+pymysql://{user}:{password}@{host}/employees'"
   ]
  },
  {
   "cell_type": "code",
   "execution_count": 76,
   "id": "2b645000",
   "metadata": {},
   "outputs": [],
   "source": [
    "# def get_db_url(username, hostname, password, database):\n",
    "#     url = f'mysql+pymysql://{user}:{password}@{host}/{database}'\n",
    "#     return url\n",
    "\n",
    "#defines function to create a sql url using personal credentials\n",
    "def get_db_url(db_name):\n",
    "    \n",
    "    #importing variables used to connect to sql database\n",
    "    from env import host, user, password\n",
    "    \n",
    "    #creates the url and the function returns it\n",
    "    url = f'mysql+pymysql://{user}:{password}@{host}/{db_name}'\n",
    "    return (url)"
   ]
  },
  {
   "cell_type": "code",
   "execution_count": 186,
   "id": "38219282",
   "metadata": {},
   "outputs": [
    {
     "data": {
      "text/html": [
       "<div>\n",
       "<style scoped>\n",
       "    .dataframe tbody tr th:only-of-type {\n",
       "        vertical-align: middle;\n",
       "    }\n",
       "\n",
       "    .dataframe tbody tr th {\n",
       "        vertical-align: top;\n",
       "    }\n",
       "\n",
       "    .dataframe thead th {\n",
       "        text-align: right;\n",
       "    }\n",
       "</style>\n",
       "<table border=\"1\" class=\"dataframe\">\n",
       "  <thead>\n",
       "    <tr style=\"text-align: right;\">\n",
       "      <th></th>\n",
       "      <th>emp_no</th>\n",
       "      <th>salary</th>\n",
       "      <th>from_date</th>\n",
       "      <th>to_date</th>\n",
       "    </tr>\n",
       "  </thead>\n",
       "  <tbody>\n",
       "    <tr>\n",
       "      <th>0</th>\n",
       "      <td>10001</td>\n",
       "      <td>88958</td>\n",
       "      <td>2002-06-22</td>\n",
       "      <td>9999-01-01</td>\n",
       "    </tr>\n",
       "    <tr>\n",
       "      <th>1</th>\n",
       "      <td>10002</td>\n",
       "      <td>72527</td>\n",
       "      <td>2001-08-02</td>\n",
       "      <td>9999-01-01</td>\n",
       "    </tr>\n",
       "    <tr>\n",
       "      <th>2</th>\n",
       "      <td>10003</td>\n",
       "      <td>43311</td>\n",
       "      <td>2001-12-01</td>\n",
       "      <td>9999-01-01</td>\n",
       "    </tr>\n",
       "    <tr>\n",
       "      <th>3</th>\n",
       "      <td>10004</td>\n",
       "      <td>74057</td>\n",
       "      <td>2001-11-27</td>\n",
       "      <td>9999-01-01</td>\n",
       "    </tr>\n",
       "    <tr>\n",
       "      <th>4</th>\n",
       "      <td>10005</td>\n",
       "      <td>94692</td>\n",
       "      <td>2001-09-09</td>\n",
       "      <td>9999-01-01</td>\n",
       "    </tr>\n",
       "    <tr>\n",
       "      <th>...</th>\n",
       "      <td>...</td>\n",
       "      <td>...</td>\n",
       "      <td>...</td>\n",
       "      <td>...</td>\n",
       "    </tr>\n",
       "    <tr>\n",
       "      <th>240119</th>\n",
       "      <td>499995</td>\n",
       "      <td>52868</td>\n",
       "      <td>2002-06-01</td>\n",
       "      <td>9999-01-01</td>\n",
       "    </tr>\n",
       "    <tr>\n",
       "      <th>240120</th>\n",
       "      <td>499996</td>\n",
       "      <td>69501</td>\n",
       "      <td>2002-05-12</td>\n",
       "      <td>9999-01-01</td>\n",
       "    </tr>\n",
       "    <tr>\n",
       "      <th>240121</th>\n",
       "      <td>499997</td>\n",
       "      <td>83441</td>\n",
       "      <td>2001-08-26</td>\n",
       "      <td>9999-01-01</td>\n",
       "    </tr>\n",
       "    <tr>\n",
       "      <th>240122</th>\n",
       "      <td>499998</td>\n",
       "      <td>55003</td>\n",
       "      <td>2001-12-25</td>\n",
       "      <td>9999-01-01</td>\n",
       "    </tr>\n",
       "    <tr>\n",
       "      <th>240123</th>\n",
       "      <td>499999</td>\n",
       "      <td>77303</td>\n",
       "      <td>2001-11-29</td>\n",
       "      <td>9999-01-01</td>\n",
       "    </tr>\n",
       "  </tbody>\n",
       "</table>\n",
       "<p>240124 rows × 4 columns</p>\n",
       "</div>"
      ],
      "text/plain": [
       "        emp_no  salary   from_date     to_date\n",
       "0        10001   88958  2002-06-22  9999-01-01\n",
       "1        10002   72527  2001-08-02  9999-01-01\n",
       "2        10003   43311  2001-12-01  9999-01-01\n",
       "3        10004   74057  2001-11-27  9999-01-01\n",
       "4        10005   94692  2001-09-09  9999-01-01\n",
       "...        ...     ...         ...         ...\n",
       "240119  499995   52868  2002-06-01  9999-01-01\n",
       "240120  499996   69501  2002-05-12  9999-01-01\n",
       "240121  499997   83441  2001-08-26  9999-01-01\n",
       "240122  499998   55003  2001-12-25  9999-01-01\n",
       "240123  499999   77303  2001-11-29  9999-01-01\n",
       "\n",
       "[240124 rows x 4 columns]"
      ]
     },
     "execution_count": 186,
     "metadata": {},
     "output_type": "execute_result"
    }
   ],
   "source": [
    "# get_db_url(user, host, password, 'employees')\n",
    "\n",
    "# get_db_url(\"employees\")\n",
    "\n",
    "pd.read_sql('SELECT * FROM salaries WHERE to_date > curdate()', get_db_url('employees'))\n"
   ]
  },
  {
   "cell_type": "code",
   "execution_count": 187,
   "id": "ddc88464",
   "metadata": {},
   "outputs": [],
   "source": [
    "current_employees = pd.read_sql('SELECT * FROM salaries WHERE to_date > curdate()', get_db_url('employees'))\n",
    "#creating a named dataframe"
   ]
  },
  {
   "cell_type": "code",
   "execution_count": 188,
   "id": "ebfac5c7",
   "metadata": {},
   "outputs": [
    {
     "data": {
      "text/plain": [
       "72012.23585730705"
      ]
     },
     "execution_count": 188,
     "metadata": {},
     "output_type": "execute_result"
    }
   ],
   "source": [
    "current_employees.salary.mean()"
   ]
  },
  {
   "cell_type": "code",
   "execution_count": 189,
   "id": "584c97e8",
   "metadata": {},
   "outputs": [
    {
     "data": {
      "text/html": [
       "<div>\n",
       "<style scoped>\n",
       "    .dataframe tbody tr th:only-of-type {\n",
       "        vertical-align: middle;\n",
       "    }\n",
       "\n",
       "    .dataframe tbody tr th {\n",
       "        vertical-align: top;\n",
       "    }\n",
       "\n",
       "    .dataframe thead th {\n",
       "        text-align: right;\n",
       "    }\n",
       "</style>\n",
       "<table border=\"1\" class=\"dataframe\">\n",
       "  <thead>\n",
       "    <tr style=\"text-align: right;\">\n",
       "      <th></th>\n",
       "      <th>AVG(salary)</th>\n",
       "    </tr>\n",
       "  </thead>\n",
       "  <tbody>\n",
       "    <tr>\n",
       "      <th>0</th>\n",
       "      <td>72012.2359</td>\n",
       "    </tr>\n",
       "  </tbody>\n",
       "</table>\n",
       "</div>"
      ],
      "text/plain": [
       "   AVG(salary)\n",
       "0   72012.2359"
      ]
     },
     "execution_count": 189,
     "metadata": {},
     "output_type": "execute_result"
    }
   ],
   "source": [
    "pd.read_sql('SELECT AVG(salary) FROM salaries WHERE to_date > curdate()', get_db_url('employees'))"
   ]
  },
  {
   "cell_type": "code",
   "execution_count": 190,
   "id": "40531282",
   "metadata": {},
   "outputs": [
    {
     "data": {
      "text/plain": [
       "17309.99538025198"
      ]
     },
     "execution_count": 190,
     "metadata": {},
     "output_type": "execute_result"
    }
   ],
   "source": [
    "current_employees.salary.std()"
   ]
  },
  {
   "cell_type": "code",
   "execution_count": 191,
   "id": "ce07c80c",
   "metadata": {},
   "outputs": [
    {
     "data": {
      "text/html": [
       "<div>\n",
       "<style scoped>\n",
       "    .dataframe tbody tr th:only-of-type {\n",
       "        vertical-align: middle;\n",
       "    }\n",
       "\n",
       "    .dataframe tbody tr th {\n",
       "        vertical-align: top;\n",
       "    }\n",
       "\n",
       "    .dataframe thead th {\n",
       "        text-align: right;\n",
       "    }\n",
       "</style>\n",
       "<table border=\"1\" class=\"dataframe\">\n",
       "  <thead>\n",
       "    <tr style=\"text-align: right;\">\n",
       "      <th></th>\n",
       "      <th>STDDEV(salary)</th>\n",
       "    </tr>\n",
       "  </thead>\n",
       "  <tbody>\n",
       "    <tr>\n",
       "      <th>0</th>\n",
       "      <td>17309.959336</td>\n",
       "    </tr>\n",
       "  </tbody>\n",
       "</table>\n",
       "</div>"
      ],
      "text/plain": [
       "   STDDEV(salary)\n",
       "0    17309.959336"
      ]
     },
     "execution_count": 191,
     "metadata": {},
     "output_type": "execute_result"
    }
   ],
   "source": [
    "pd.read_sql('SELECT STDDEV(salary) FROM salaries WHERE to_date > curdate()', get_db_url('employees'))"
   ]
  },
  {
   "cell_type": "code",
   "execution_count": 192,
   "id": "d36375bf",
   "metadata": {},
   "outputs": [],
   "source": [
    "#The average salary for current employees is 72012.24...\n",
    "\n",
    "avg_sal = current_employees.salary.mean()\n",
    "\n",
    "#The standard deviation is 17309.99...\n",
    "\n",
    "stdev_sal = current_employees.salary.std()"
   ]
  },
  {
   "cell_type": "code",
   "execution_count": 193,
   "id": "fd92d8e0",
   "metadata": {},
   "outputs": [
    {
     "data": {
      "text/plain": [
       "<scipy.stats._distn_infrastructure.rv_frozen at 0x7f930e88c100>"
      ]
     },
     "execution_count": 193,
     "metadata": {},
     "output_type": "execute_result"
    }
   ],
   "source": [
    "stats.norm(avg_sal, stdev_sal)"
   ]
  },
  {
   "cell_type": "code",
   "execution_count": 194,
   "id": "9a421449",
   "metadata": {},
   "outputs": [],
   "source": [
    "norm_salaries = stats.norm(avg_sal, stdev_sal)"
   ]
  },
  {
   "cell_type": "code",
   "execution_count": 195,
   "id": "e92e7f01",
   "metadata": {},
   "outputs": [
    {
     "data": {
      "text/plain": [
       "0.24385742480214423"
      ]
     },
     "execution_count": 195,
     "metadata": {},
     "output_type": "execute_result"
    }
   ],
   "source": [
    "norm_salaries.cdf(60000)\n",
    "#this is the percentage of employees that make 60,000 or less"
   ]
  },
  {
   "cell_type": "code",
   "execution_count": 199,
   "id": "9df60dda",
   "metadata": {},
   "outputs": [
    {
     "data": {
      "text/plain": [
       "0.2705727041028802"
      ]
     },
     "execution_count": 199,
     "metadata": {},
     "output_type": "execute_result"
    }
   ],
   "source": [
    "len(current_employees[current_employees.salary < 60000]) / len(current_employees)\n",
    "  \n",
    "#trying to get the total number of rows where sal < 60K on the salary column divided by total numb of rows"
   ]
  },
  {
   "cell_type": "code",
   "execution_count": 200,
   "id": "2a53b0a6",
   "metadata": {},
   "outputs": [
    {
     "data": {
      "text/plain": [
       "64971"
      ]
     },
     "execution_count": 200,
     "metadata": {},
     "output_type": "execute_result"
    }
   ],
   "source": [
    "#double checking for clarity:\n",
    "len(current_employees[current_employees.salary < 60000])"
   ]
  },
  {
   "cell_type": "code",
   "execution_count": null,
   "id": "d3e921ab",
   "metadata": {},
   "outputs": [],
   "source": []
  },
  {
   "cell_type": "code",
   "execution_count": 89,
   "id": "414b254c",
   "metadata": {},
   "outputs": [
    {
     "data": {
      "text/plain": [
       "0.09208819199804053"
      ]
     },
     "execution_count": 89,
     "metadata": {},
     "output_type": "execute_result"
    }
   ],
   "source": [
    "norm_salaries.sf(95000)\n",
    "#this is the percentage of employees that make 95,000 or more"
   ]
  },
  {
   "cell_type": "code",
   "execution_count": null,
   "id": "9f21d1bb",
   "metadata": {},
   "outputs": [],
   "source": [
    "len(current_employees[current_employees.salary > 95000]) / len(current_employees)"
   ]
  },
  {
   "cell_type": "code",
   "execution_count": 93,
   "id": "0e957e70",
   "metadata": {},
   "outputs": [
    {
     "data": {
      "text/plain": [
       "100484.64454102775"
      ]
     },
     "execution_count": 93,
     "metadata": {},
     "output_type": "execute_result"
    }
   ],
   "source": [
    "norm_salaries.ppf(.95)\n",
    "#this is the top 5% salary"
   ]
  },
  {
   "cell_type": "code",
   "execution_count": null,
   "id": "caf014a6",
   "metadata": {},
   "outputs": [],
   "source": [
    "# What percent of employees earn between 65,000 and 80,000?\n",
    "# I need to find out the percent who earn 80,000 and above, and the percent of 65,000 and below"
   ]
  },
  {
   "cell_type": "code",
   "execution_count": 106,
   "id": "0ff5ec02",
   "metadata": {},
   "outputs": [
    {
     "data": {
      "text/plain": [
       "0.32223650950468197"
      ]
     },
     "execution_count": 106,
     "metadata": {},
     "output_type": "execute_result"
    }
   ],
   "source": [
    "above_80 = norm_salaries.sf(80000)\n",
    "above_80"
   ]
  },
  {
   "cell_type": "code",
   "execution_count": 107,
   "id": "3392c319",
   "metadata": {},
   "outputs": [
    {
     "data": {
      "text/plain": [
       "0.34270292195065144"
      ]
     },
     "execution_count": 107,
     "metadata": {},
     "output_type": "execute_result"
    }
   ],
   "source": [
    "below_65 = norm_salaries.cdf(65000)\n",
    "below_65"
   ]
  },
  {
   "cell_type": "code",
   "execution_count": 105,
   "id": "398cf7ca",
   "metadata": {},
   "outputs": [
    {
     "data": {
      "text/plain": [
       "0.020466412445969473"
      ]
     },
     "execution_count": 105,
     "metadata": {},
     "output_type": "execute_result"
    }
   ],
   "source": [
    "below_65 - above_80  #about 2% of employees earn between 65,000 and 75000"
   ]
  },
  {
   "cell_type": "code",
   "execution_count": null,
   "id": "d5c0048f",
   "metadata": {},
   "outputs": [],
   "source": [
    ","
   ]
  },
  {
   "cell_type": "code",
   "execution_count": null,
   "id": "550b909e",
   "metadata": {},
   "outputs": [],
   "source": []
  }
 ],
 "metadata": {
  "kernelspec": {
   "display_name": "Python 3",
   "language": "python",
   "name": "python3"
  },
  "language_info": {
   "codemirror_mode": {
    "name": "ipython",
    "version": 3
   },
   "file_extension": ".py",
   "mimetype": "text/x-python",
   "name": "python",
   "nbconvert_exporter": "python",
   "pygments_lexer": "ipython3",
   "version": "3.8.8"
  }
 },
 "nbformat": 4,
 "nbformat_minor": 5
}
