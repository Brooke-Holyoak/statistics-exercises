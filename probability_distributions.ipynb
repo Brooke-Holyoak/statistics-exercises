{
 "cells": [
  {
   "cell_type": "code",
   "execution_count": 30,
   "id": "e954b91d",
   "metadata": {},
   "outputs": [],
   "source": [
    "import matplotlib.pyplot as plt\n",
    "import numpy as np\n",
    "from scipy import stats\n",
    "\n",
    "np.random.seed(123)"
   ]
  },
  {
   "cell_type": "code",
   "execution_count": 31,
   "id": "a8aec085",
   "metadata": {},
   "outputs": [],
   "source": [
    "# import seaborn\n",
    "import seaborn as sns\n",
    "# settings for seaborn plotting style\n",
    "sns.set(color_codes=True)\n",
    "# settings for seaborn plot sizes\n",
    "sns.set(rc={'figure.figsize':(5,5)})"
   ]
  },
  {
   "cell_type": "code",
   "execution_count": 32,
   "id": "6f4cd53b",
   "metadata": {},
   "outputs": [],
   "source": [
    "#from scipy.stats import poisson\n",
    "#drivethru_cars = poisson.rvs(mu=2, size=10000)"
   ]
  },
  {
   "cell_type": "code",
   "execution_count": 33,
   "id": "f7731ff2",
   "metadata": {},
   "outputs": [],
   "source": [
    "drivethru_cars = stats.poisson.rvs(mu=2, size=10000)"
   ]
  },
  {
   "cell_type": "code",
   "execution_count": 34,
   "id": "fdb21d53",
   "metadata": {},
   "outputs": [
    {
     "data": {
      "text/plain": [
       "[Text(0.5, 0, 'Poisson Distribution'), Text(0, 0.5, 'Frequency')]"
      ]
     },
     "execution_count": 34,
     "metadata": {},
     "output_type": "execute_result"
    },
    {
     "data": {
      "image/png": "[encoded data removed]",
      "text/plain": [
       "<Figure size 360x360 with 1 Axes>"
      ]
     },
     "metadata": {},
     "output_type": "display_data"
    }
   ],
   "source": [
    "ax = sns.histplot(drivethru_cars,\n",
    "                  bins=30,\n",
    "                  kde=False,\n",
    "                  color='skyblue')\n",
    "ax.set(xlabel='Poisson Distribution', ylabel='Frequency')"
   ]
  },
  {
   "cell_type": "markdown",
   "id": "d9ed1f39",
   "metadata": {},
   "source": [
    "#### 1. A bank found that the average number of cars waiting during the noon hour at a drive-up window follows a Poisson distribution with a mean of 2 cars. Make a chart of this distribution and answer these questions concerning the probability of cars waiting at the drive-up window.\n",
    "\n",
    "#### What is the probability that no cars drive up in the noon hour?\n",
    "#### What is the probability that 3 or more cars come through the drive through?\n",
    "#### How likely is it that the drive through gets at least 1 car?"
   ]
  },
  {
   "cell_type": "code",
   "execution_count": 13,
   "id": "ef44282f",
   "metadata": {},
   "outputs": [
    {
     "data": {
      "text/plain": [
       "array([1, 1, 2, 3, 1, 2, 2, 1, 3, 3, 2, 2, 2, 0, 3])"
      ]
     },
     "execution_count": 13,
     "metadata": {},
     "output_type": "execute_result"
    }
   ],
   "source": [
    "drivethru_cars[0:15]"
   ]
  },
  {
   "cell_type": "code",
   "execution_count": 24,
   "id": "38f90aae",
   "metadata": {},
   "outputs": [
    {
     "data": {
      "text/plain": [
       "0.1353352832366127"
      ]
     },
     "execution_count": 24,
     "metadata": {},
     "output_type": "execute_result"
    }
   ],
   "source": [
    "stats.poisson(2).pmf(0)"
   ]
  },
  {
   "cell_type": "code",
   "execution_count": 25,
   "id": "d641b8e8",
   "metadata": {},
   "outputs": [
    {
     "data": {
      "text/plain": [
       "0.18044704431548356"
      ]
     },
     "execution_count": 25,
     "metadata": {},
     "output_type": "execute_result"
    }
   ],
   "source": [
    "stats.poisson(2).pmf(3)"
   ]
  },
  {
   "cell_type": "code",
   "execution_count": 26,
   "id": "d58331a1",
   "metadata": {},
   "outputs": [
    {
     "data": {
      "text/plain": [
       "0.2706705664732254"
      ]
     },
     "execution_count": 26,
     "metadata": {},
     "output_type": "execute_result"
    }
   ],
   "source": [
    "stats.poisson(2).pmf(1)"
   ]
  },
  {
   "cell_type": "markdown",
   "id": "1b920dfb",
   "metadata": {},
   "source": [
    "#### 2. Grades of State University graduates are normally distributed with a mean of 3.0 and a standard deviation of .3. Calculate the following:\n",
    "\n",
    "#### What grade point average is required to be in the top 5% of the graduating class?\n",
    "#### What GPA constitutes the bottom 15% of the class?\n",
    "#### An eccentric alumnus left scholarship money for students in the third decile from the bottom of their class. Determine the range of the third decile. Would a student with a 2.8 grade point average qualify for this scholarship?\n",
    "#### If I have a GPA of 3.5, what percentile am I in?"
   ]
  },
  {
   "cell_type": "code",
   "execution_count": 28,
   "id": "d1a88dba",
   "metadata": {},
   "outputs": [],
   "source": [
    "grades = np.random.normal(loc = 3.0, scale = .3, size = 10_000)"
   ]
  },
  {
   "cell_type": "code",
   "execution_count": 29,
   "id": "262ab156",
   "metadata": {},
   "outputs": [
    {
     "data": {
      "text/plain": [
       "array([2.98129847, 2.82160704, 3.12074859, ..., 2.14243017, 3.21968003,\n",
       "       2.91715064])"
      ]
     },
     "execution_count": 29,
     "metadata": {},
     "output_type": "execute_result"
    }
   ],
   "source": [
    "grades"
   ]
  },
  {
   "cell_type": "code",
   "execution_count": 39,
   "id": "f7e6675d",
   "metadata": {},
   "outputs": [],
   "source": [
    "grade_distribution = stats.norm(3.0, .3)"
   ]
  },
  {
   "cell_type": "code",
   "execution_count": 42,
   "id": "172c9f4c",
   "metadata": {},
   "outputs": [],
   "source": [
    "top_5_percent = grade_distribution.ppf(.95)"
   ]
  },
  {
   "cell_type": "code",
   "execution_count": 43,
   "id": "9fa4e4a9",
   "metadata": {},
   "outputs": [
    {
     "data": {
      "text/plain": [
       "3.4934560880854417"
      ]
     },
     "execution_count": 43,
     "metadata": {},
     "output_type": "execute_result"
    }
   ],
   "source": [
    "top_5_percent"
   ]
  },
  {
   "cell_type": "code",
   "execution_count": 44,
   "id": "74078408",
   "metadata": {},
   "outputs": [],
   "source": [
    "bottom_15_percent = grade_distribution.ppf(.15)"
   ]
  },
  {
   "cell_type": "code",
   "execution_count": 46,
   "id": "b74925e8",
   "metadata": {},
   "outputs": [
    {
     "data": {
      "text/plain": [
       "2.689069983151863"
      ]
     },
     "execution_count": 46,
     "metadata": {},
     "output_type": "execute_result"
    }
   ],
   "source": [
    "bottom_15_percent"
   ]
  },
  {
   "cell_type": "code",
   "execution_count": 52,
   "id": "8407457c",
   "metadata": {},
   "outputs": [
    {
     "data": {
      "text/plain": [
       "0.2524925375469227"
      ]
     },
     "execution_count": 52,
     "metadata": {},
     "output_type": "execute_result"
    }
   ],
   "source": [
    "grade_distribution.cdf(2.8)\n",
    "\n",
    "#the 3rd decile is .20-.30 of the class."
   ]
  },
  {
   "cell_type": "code",
   "execution_count": 54,
   "id": "e1b8d6ca",
   "metadata": {},
   "outputs": [
    {
     "data": {
      "text/plain": [
       "2.7475136299281258"
      ]
     },
     "execution_count": 54,
     "metadata": {},
     "output_type": "execute_result"
    }
   ],
   "source": [
    "grade_distribution.ppf(.20)"
   ]
  },
  {
   "cell_type": "code",
   "execution_count": 55,
   "id": "d4071b3d",
   "metadata": {},
   "outputs": [
    {
     "data": {
      "text/plain": [
       "2.842679846187588"
      ]
     },
     "execution_count": 55,
     "metadata": {},
     "output_type": "execute_result"
    }
   ],
   "source": [
    "grade_distribution.ppf(.30)"
   ]
  },
  {
   "cell_type": "code",
   "execution_count": 56,
   "id": "289236b7",
   "metadata": {},
   "outputs": [
    {
     "data": {
      "text/plain": [
       "0.9522096477271853"
      ]
     },
     "execution_count": 56,
     "metadata": {},
     "output_type": "execute_result"
    }
   ],
   "source": [
    "grade_distribution.cdf(3.5)"
   ]
  },
  {
   "cell_type": "code",
   "execution_count": null,
   "id": "a5c1694d",
   "metadata": {},
   "outputs": [],
   "source": [
    "#A GPA of 3.5 is in the top 5%"
   ]
  },
  {
   "cell_type": "code",
   "execution_count": 57,
   "id": "06dc0904",
   "metadata": {},
   "outputs": [
    {
     "data": {
      "text/plain": [
       "0.0477903522728147"
      ]
     },
     "execution_count": 57,
     "metadata": {},
     "output_type": "execute_result"
    }
   ],
   "source": [
    "grade_distribution.sf(3.5)"
   ]
  },
  {
   "cell_type": "markdown",
   "id": "47959307",
   "metadata": {},
   "source": [
    "#### 3. A marketing website has an average click-through rate of 2%. One day they observe 4326 visitors and 97 click-throughs. How likely is it that this many people or more click through?"
   ]
  },
  {
   "cell_type": "code",
   "execution_count": 58,
   "id": "8e64ded6",
   "metadata": {},
   "outputs": [],
   "source": [
    "clicks = stats.binom(4326, .02)"
   ]
  },
  {
   "cell_type": "code",
   "execution_count": 59,
   "id": "0b5707ed",
   "metadata": {},
   "outputs": [
    {
     "data": {
      "text/plain": [
       "<scipy.stats._distn_infrastructure.rv_frozen at 0x7f93252ef040>"
      ]
     },
     "execution_count": 59,
     "metadata": {},
     "output_type": "execute_result"
    }
   ],
   "source": [
    "clicks"
   ]
  },
  {
   "cell_type": "code",
   "execution_count": 60,
   "id": "a48badc7",
   "metadata": {},
   "outputs": [
    {
     "data": {
      "text/plain": [
       "0.11781530585907925"
      ]
     },
     "execution_count": 60,
     "metadata": {},
     "output_type": "execute_result"
    }
   ],
   "source": [
    "clicks.sf(97)"
   ]
  },
  {
   "cell_type": "markdown",
   "id": "b6232912",
   "metadata": {},
   "source": [
    "#### 4. You are working on some statistics homework consisting of 100 questions where all of the answers are a probability rounded to the hundreths place. Looking to save time, you put down random probabilities as the answer to each question.\n",
    "\n",
    "#### What is the probability that at least one of your first 60 answers is correct?"
   ]
  },
  {
   "cell_type": "code",
   "execution_count": null,
   "id": "386f5367",
   "metadata": {},
   "outputs": [],
   "source": [
    "# 1/101 chance; binomial distribution.  60, 1/101"
   ]
  },
  {
   "cell_type": "code",
   "execution_count": 36,
   "id": "640cf486",
   "metadata": {},
   "outputs": [
    {
     "data": {
      "text/plain": [
       "<scipy.stats._distn_infrastructure.rv_frozen at 0x7f9324cf97f0>"
      ]
     },
     "execution_count": 36,
     "metadata": {},
     "output_type": "execute_result"
    }
   ],
   "source": [
    "stats.binom(60, 1/101)"
   ]
  },
  {
   "cell_type": "code",
   "execution_count": 38,
   "id": "72b60765",
   "metadata": {},
   "outputs": [
    {
     "data": {
      "text/plain": [
       "0.44955038406224"
      ]
     },
     "execution_count": 38,
     "metadata": {},
     "output_type": "execute_result"
    }
   ],
   "source": [
    "stats.binom(60, 1/101).sf(0)"
   ]
  },
  {
   "cell_type": "markdown",
   "id": "917a8a7a",
   "metadata": {},
   "source": [
    "#### 5. The codeup staff tends to get upset when the student break area is not cleaned up. \n",
    "#### Suppose that there's a 3% chance that any one student cleans the break area when they visit it, and, on any given day, about 90% of the 3 active cohorts of 22 students visit the break area. \n",
    "#### How likely is it that the break area gets cleaned up each day? \n",
    "#### How likely is it that it goes two days without getting cleaned up? All week?"
   ]
  },
  {
   "cell_type": "code",
   "execution_count": 47,
   "id": "1a9a9b4d",
   "metadata": {},
   "outputs": [
    {
     "data": {
      "text/plain": [
       "<scipy.stats._distn_infrastructure.rv_frozen at 0x7f93250bca90>"
      ]
     },
     "execution_count": 47,
     "metadata": {},
     "output_type": "execute_result"
    }
   ],
   "source": [
    "stats.binom(2, .83)  #.83 is the probability the area gets cleaned each day.  \n",
    "                     # Figure this out by (3 * 22) * .9"
   ]
  },
  {
   "cell_type": "code",
   "execution_count": 48,
   "id": "5cdfbe87",
   "metadata": {},
   "outputs": [
    {
     "data": {
      "text/plain": [
       "0.02890000000000002"
      ]
     },
     "execution_count": 48,
     "metadata": {},
     "output_type": "execute_result"
    }
   ],
   "source": [
    "stats.binom(2, .83).pmf(0)"
   ]
  },
  {
   "cell_type": "markdown",
   "id": "ff57ff65",
   "metadata": {},
   "source": [
    "#### 6. You want to get lunch at La Panaderia, but notice that the line is usually very long at lunchtime. After several weeks of careful observation, you notice that the average number of people in line when your lunch break starts is normally distributed with a mean of 15 and standard deviation of 3. If it takes 2 minutes for each person to order, and 10 minutes from ordering to getting your food, what is the likelihood that you have at least 15 minutes left to eat your food before you have to go back to class? Assume you have one hour for lunch, and ignore travel time to and from La Panaderia."
   ]
  },
  {
   "cell_type": "code",
   "execution_count": 64,
   "id": "a1d737da",
   "metadata": {},
   "outputs": [],
   "source": [
    "pan_line_people = stats.norm(15, 3)"
   ]
  },
  {
   "cell_type": "code",
   "execution_count": 65,
   "id": "7f93b92a",
   "metadata": {},
   "outputs": [
    {
     "data": {
      "text/plain": [
       "<scipy.stats._distn_infrastructure.rv_frozen at 0x7f9324f83cd0>"
      ]
     },
     "execution_count": 65,
     "metadata": {},
     "output_type": "execute_result"
    }
   ],
   "source": [
    "pan_line_people"
   ]
  },
  {
   "cell_type": "code",
   "execution_count": 69,
   "id": "0ad4fbd7",
   "metadata": {},
   "outputs": [
    {
     "data": {
      "text/plain": [
       "0.7475074624530771"
      ]
     },
     "execution_count": 69,
     "metadata": {},
     "output_type": "execute_result"
    }
   ],
   "source": [
    "pan_line_people.cdf(17)"
   ]
  },
  {
   "cell_type": "code",
   "execution_count": 70,
   "id": "044f6f4d",
   "metadata": {},
   "outputs": [],
   "source": [
    "#17 people is the max number of people that can be in line in the timeframe I have.  \n",
    "#If each person takes 2 minutes, and then I have to wait an additional 10, \n",
    "#15 people take 30 minutes, 16 people take 32, 17 people take 34 minutes.  34 + 10 = 44 min \n",
    "#44 min is within our timeframe.  I'll still have 16 minutes."
   ]
  },
  {
   "cell_type": "markdown",
   "id": "62ba6d5c",
   "metadata": {},
   "source": [
    "#### 7. Connect to the employees database and find the average salary of current employees, along with the standard deviation. For the following questions, calculate the answer based on modeling the employees salaries with a normal distribution defined by the calculated mean and standard deviation then compare this answer to the actual values present in the salaries dataset.\n",
    "\n",
    "#### What percent of employees earn less than 60,000?\n",
    "#### What percent of employees earn more than 95,000?\n",
    "#### What percent of employees earn between 65,000 and 80,000?\n",
    "#### What do the top 5% of employees make?"
   ]
  },
  {
   "cell_type": "code",
   "execution_count": 71,
   "id": "b60c4d1a",
   "metadata": {},
   "outputs": [
    {
     "ename": "ModuleNotFoundError",
     "evalue": "No module named 'env'",
     "output_type": "error",
     "traceback": [
      "\u001b[0;31m---------------------------------------------------------------------------\u001b[0m",
      "\u001b[0;31mModuleNotFoundError\u001b[0m                       Traceback (most recent call last)",
      "\u001b[0;32m<ipython-input-71-336bc5d99c6a>\u001b[0m in \u001b[0;36m<module>\u001b[0;34m\u001b[0m\n\u001b[0;32m----> 1\u001b[0;31m \u001b[0;32mfrom\u001b[0m \u001b[0menv\u001b[0m \u001b[0;32mimport\u001b[0m \u001b[0mhost\u001b[0m\u001b[0;34m,\u001b[0m \u001b[0muser\u001b[0m\u001b[0;34m,\u001b[0m \u001b[0mpassword\u001b[0m\u001b[0;34m\u001b[0m\u001b[0;34m\u001b[0m\u001b[0m\n\u001b[0m\u001b[1;32m      2\u001b[0m \u001b[0;34m\u001b[0m\u001b[0m\n\u001b[1;32m      3\u001b[0m \u001b[0murl\u001b[0m \u001b[0;34m=\u001b[0m \u001b[0;34mf'mysql+pymysql://{user}:{password}@{host}/employees'\u001b[0m\u001b[0;34m\u001b[0m\u001b[0;34m\u001b[0m\u001b[0m\n",
      "\u001b[0;31mModuleNotFoundError\u001b[0m: No module named 'env'"
     ]
    }
   ],
   "source": [
    "from env import host, user, password\n",
    "\n",
    "url = f'mysql+pymysql://{user}:{password}@{host}/employees'"
   ]
  },
  {
   "cell_type": "code",
   "execution_count": null,
   "id": "1f17af22",
   "metadata": {},
   "outputs": [],
   "source": []
  }
 ],
 "metadata": {
  "kernelspec": {
   "display_name": "Python 3",
   "language": "python",
   "name": "python3"
  },
  "language_info": {
   "codemirror_mode": {
    "name": "ipython",
    "version": 3
   },
   "file_extension": ".py",
   "mimetype": "text/x-python",
   "name": "python",
   "nbconvert_exporter": "python",
   "pygments_lexer": "ipython3",
   "version": "3.8.8"
  }
 },
 "nbformat": 4,
 "nbformat_minor": 5
}
